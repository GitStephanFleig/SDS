{
 "cells": [
  {
   "cell_type": "markdown",
   "metadata": {},
   "source": [
    "# Feature Engineering"
   ]
  },
  {
   "cell_type": "markdown",
   "metadata": {},
   "source": [
    "We create features from the raw text so we can train the machine learning models. The steps followed are:\n",
    "\n",
    "2. **Label coding**: creation of a dictionary to map each category to a code.\n",
    "3. **Train-test split**: to test the models on unseen data.\n",
    "4. **Text representation**: use of TF-IDF scores to represent text."
   ]
  },
  {
   "cell_type": "code",
   "execution_count": 1,
   "metadata": {},
   "outputs": [],
   "source": [
    "import pickle\n",
    "import pandas as pd\n",
    "import re\n",
    "import nltk\n",
    "from nltk.corpus import stopwords\n",
    "from nltk.stem import WordNetLemmatizer\n",
    "from sklearn.feature_extraction.text import TfidfVectorizer\n",
    "from sklearn.model_selection import train_test_split\n",
    "from sklearn.feature_selection import chi2\n",
    "import numpy as np"
   ]
  },
  {
   "cell_type": "markdown",
   "metadata": {},
   "source": [
    "First of all we'll load the dataset:"
   ]
  },
  {
   "cell_type": "code",
   "execution_count": 3,
   "metadata": {},
   "outputs": [
    {
     "name": "stderr",
     "output_type": "stream",
     "text": [
      "C:\\Users\\Sarah\\Anaconda3\\lib\\site-packages\\IPython\\core\\interactiveshell.py:3049: DtypeWarning: Columns (0,1,2,12,13) have mixed types. Specify dtype option on import or set low_memory=False.\n",
      "  interactivity=interactivity, compiler=compiler, result=result)\n"
     ]
    }
   ],
   "source": [
    "df = pd.read_csv('ml_model.csv')"
   ]
  },
  {
   "cell_type": "code",
   "execution_count": 4,
   "metadata": {},
   "outputs": [],
   "source": [
    "# making sure we only have data from 1913 and forward\n",
    "df = df.drop(df.index[21932:42286])"
   ]
  },
  {
   "cell_type": "markdown",
   "metadata": {},
   "source": [
    "Finally, we can delete the intermediate columns:"
   ]
  },
  {
   "cell_type": "code",
   "execution_count": 5,
   "metadata": {},
   "outputs": [
    {
     "name": "stdout",
     "output_type": "stream",
     "text": [
      "Index(['Name', 'Type', 'Party', 'Republican', 'year', 'mean_word_length',\n",
      "       'word_count', 'some_word_count', 'unique_word', 'some_unique_word',\n",
      "       'unique_word_ratio', 'some_unique_word_ratio', 'words', 'sentences',\n",
      "       'mean_sentence_length', 'positive_words', 'negative_words',\n",
      "       'positive_words_ratio', 'negative_words_ratio', 'we_count', 'war_count',\n",
      "       'i_count', 'Sentences', 'vader_neg', 'vader_pos', 'vader_neu',\n",
      "       'vader_com'],\n",
      "      dtype='object')\n"
     ]
    }
   ],
   "source": [
    "print(df.columns)"
   ]
  },
  {
   "cell_type": "code",
   "execution_count": 6,
   "metadata": {
    "scrolled": true
   },
   "outputs": [],
   "source": [
    "#df.head(1)\n",
    "df.drop(['year','we_count','war_count','i_count','words'], axis=1, inplace=True)"
   ]
  },
  {
   "cell_type": "code",
   "execution_count": 7,
   "metadata": {},
   "outputs": [
    {
     "name": "stdout",
     "output_type": "stream",
     "text": [
      "Index(['Name', 'Type', 'Party', 'Republican', 'mean_word_length', 'word_count',\n",
      "       'some_word_count', 'unique_word', 'some_unique_word',\n",
      "       'unique_word_ratio', 'some_unique_word_ratio', 'sentences',\n",
      "       'mean_sentence_length', 'positive_words', 'negative_words',\n",
      "       'positive_words_ratio', 'negative_words_ratio', 'Sentences',\n",
      "       'vader_neg', 'vader_pos', 'vader_neu', 'vader_com'],\n",
      "      dtype='object')\n"
     ]
    }
   ],
   "source": [
    "print(df.columns)"
   ]
  },
  {
   "cell_type": "code",
   "execution_count": 9,
   "metadata": {},
   "outputs": [],
   "source": [
    "list_columns = ['Name', 'Type', 'Party', 'Republican', 'mean_word_length', 'word_count',\n",
    "       'some_word_count', 'unique_word', 'some_unique_word',\n",
    "       'unique_word_ratio', 'some_unique_word_ratio', 'sentences',\n",
    "       'mean_sentence_length', 'positive_words', 'negative_words',\n",
    "       'positive_words_ratio', 'negative_words_ratio', 'Sentences', 'vader_neg', \n",
    "        'vader_pos', 'vader_neu', 'vader_com']\n",
    "df = df[list_columns]\n",
    "\n",
    "df = df.rename(columns={'Sentences': 'Sentences'})"
   ]
  },
  {
   "cell_type": "code",
   "execution_count": 11,
   "metadata": {
    "scrolled": false
   },
   "outputs": [
    {
     "name": "stdout",
     "output_type": "stream",
     "text": [
      "(21932, 22)\n",
      "Index(['Name', 'Type', 'Party', 'Republican', 'mean_word_length', 'word_count',\n",
      "       'some_word_count', 'unique_word', 'some_unique_word',\n",
      "       'unique_word_ratio', 'some_unique_word_ratio', 'sentences',\n",
      "       'mean_sentence_length', 'positive_words', 'negative_words',\n",
      "       'positive_words_ratio', 'negative_words_ratio', 'Sentences',\n",
      "       'vader_neg', 'vader_pos', 'vader_neu', 'vader_com'],\n",
      "      dtype='object')\n"
     ]
    }
   ],
   "source": [
    "print(df.shape)\n",
    "print(df.columns)"
   ]
  },
  {
   "cell_type": "markdown",
   "metadata": {},
   "source": [
    "## 2. Label coding"
   ]
  },
  {
   "cell_type": "markdown",
   "metadata": {},
   "source": [
    "We'll create a dictionary with the label codification:"
   ]
  },
  {
   "cell_type": "code",
   "execution_count": 12,
   "metadata": {},
   "outputs": [],
   "source": [
    "category_codes = {\n",
    "    'Democrat': 0,\n",
    "    'Republican': 1}"
   ]
  },
  {
   "cell_type": "code",
   "execution_count": 13,
   "metadata": {},
   "outputs": [],
   "source": [
    "# Category mapping\n",
    "df['Republican'] = df['Party']\n",
    "df = df.replace({'Republican':category_codes})"
   ]
  },
  {
   "cell_type": "code",
   "execution_count": 14,
   "metadata": {
    "scrolled": false
   },
   "outputs": [
    {
     "data": {
      "text/html": [
       "<div>\n",
       "<style scoped>\n",
       "    .dataframe tbody tr th:only-of-type {\n",
       "        vertical-align: middle;\n",
       "    }\n",
       "\n",
       "    .dataframe tbody tr th {\n",
       "        vertical-align: top;\n",
       "    }\n",
       "\n",
       "    .dataframe thead th {\n",
       "        text-align: right;\n",
       "    }\n",
       "</style>\n",
       "<table border=\"1\" class=\"dataframe\">\n",
       "  <thead>\n",
       "    <tr style=\"text-align: right;\">\n",
       "      <th></th>\n",
       "      <th>Name</th>\n",
       "      <th>Type</th>\n",
       "      <th>Party</th>\n",
       "      <th>Republican</th>\n",
       "      <th>mean_word_length</th>\n",
       "      <th>word_count</th>\n",
       "      <th>some_word_count</th>\n",
       "      <th>unique_word</th>\n",
       "      <th>some_unique_word</th>\n",
       "      <th>unique_word_ratio</th>\n",
       "      <th>...</th>\n",
       "      <th>mean_sentence_length</th>\n",
       "      <th>positive_words</th>\n",
       "      <th>negative_words</th>\n",
       "      <th>positive_words_ratio</th>\n",
       "      <th>negative_words_ratio</th>\n",
       "      <th>Sentences</th>\n",
       "      <th>vader_neg</th>\n",
       "      <th>vader_pos</th>\n",
       "      <th>vader_neu</th>\n",
       "      <th>vader_com</th>\n",
       "    </tr>\n",
       "  </thead>\n",
       "  <tbody>\n",
       "    <tr>\n",
       "      <th>0</th>\n",
       "      <td>Donald Trump</td>\n",
       "      <td>State of the Union</td>\n",
       "      <td>Republican</td>\n",
       "      <td>1</td>\n",
       "      <td>6.01407</td>\n",
       "      <td>29897.0</td>\n",
       "      <td>22255.0</td>\n",
       "      <td>1659.0</td>\n",
       "      <td>1387.0</td>\n",
       "      <td>0.055491</td>\n",
       "      <td>...</td>\n",
       "      <td>105.414634</td>\n",
       "      <td>244.0</td>\n",
       "      <td>177.0</td>\n",
       "      <td>0.010964</td>\n",
       "      <td>0.007953</td>\n",
       "      <td>madam speaker, mr. vice president, membe...</td>\n",
       "      <td>0.000</td>\n",
       "      <td>0.097</td>\n",
       "      <td>0.903</td>\n",
       "      <td>0.4215</td>\n",
       "    </tr>\n",
       "    <tr>\n",
       "      <th>1</th>\n",
       "      <td>Donald Trump</td>\n",
       "      <td>State of the Union</td>\n",
       "      <td>Republican</td>\n",
       "      <td>1</td>\n",
       "      <td>6.01407</td>\n",
       "      <td>29897.0</td>\n",
       "      <td>22255.0</td>\n",
       "      <td>1659.0</td>\n",
       "      <td>1387.0</td>\n",
       "      <td>0.055491</td>\n",
       "      <td>...</td>\n",
       "      <td>105.414634</td>\n",
       "      <td>244.0</td>\n",
       "      <td>177.0</td>\n",
       "      <td>0.010964</td>\n",
       "      <td>0.007953</td>\n",
       "      <td>as we begin a new congress, i stand here ready...</td>\n",
       "      <td>0.000</td>\n",
       "      <td>0.122</td>\n",
       "      <td>0.878</td>\n",
       "      <td>0.3612</td>\n",
       "    </tr>\n",
       "    <tr>\n",
       "      <th>2</th>\n",
       "      <td>Donald Trump</td>\n",
       "      <td>State of the Union</td>\n",
       "      <td>Republican</td>\n",
       "      <td>1</td>\n",
       "      <td>6.01407</td>\n",
       "      <td>29897.0</td>\n",
       "      <td>22255.0</td>\n",
       "      <td>1659.0</td>\n",
       "      <td>1387.0</td>\n",
       "      <td>0.055491</td>\n",
       "      <td>...</td>\n",
       "      <td>105.414634</td>\n",
       "      <td>244.0</td>\n",
       "      <td>177.0</td>\n",
       "      <td>0.010964</td>\n",
       "      <td>0.007953</td>\n",
       "      <td>millions of our fellow citizens are watching u...</td>\n",
       "      <td>0.053</td>\n",
       "      <td>0.159</td>\n",
       "      <td>0.788</td>\n",
       "      <td>0.4954</td>\n",
       "    </tr>\n",
       "    <tr>\n",
       "      <th>3</th>\n",
       "      <td>Donald Trump</td>\n",
       "      <td>State of the Union</td>\n",
       "      <td>Republican</td>\n",
       "      <td>1</td>\n",
       "      <td>6.01407</td>\n",
       "      <td>29897.0</td>\n",
       "      <td>22255.0</td>\n",
       "      <td>1659.0</td>\n",
       "      <td>1387.0</td>\n",
       "      <td>0.055491</td>\n",
       "      <td>...</td>\n",
       "      <td>105.414634</td>\n",
       "      <td>244.0</td>\n",
       "      <td>177.0</td>\n",
       "      <td>0.010964</td>\n",
       "      <td>0.007953</td>\n",
       "      <td>the agenda i will lay out this evening is not ...</td>\n",
       "      <td>0.000</td>\n",
       "      <td>0.000</td>\n",
       "      <td>1.000</td>\n",
       "      <td>0.0000</td>\n",
       "    </tr>\n",
       "    <tr>\n",
       "      <th>4</th>\n",
       "      <td>Donald Trump</td>\n",
       "      <td>State of the Union</td>\n",
       "      <td>Republican</td>\n",
       "      <td>1</td>\n",
       "      <td>6.01407</td>\n",
       "      <td>29897.0</td>\n",
       "      <td>22255.0</td>\n",
       "      <td>1659.0</td>\n",
       "      <td>1387.0</td>\n",
       "      <td>0.055491</td>\n",
       "      <td>...</td>\n",
       "      <td>105.414634</td>\n",
       "      <td>244.0</td>\n",
       "      <td>177.0</td>\n",
       "      <td>0.010964</td>\n",
       "      <td>0.007953</td>\n",
       "      <td>it is the agenda of the american people.</td>\n",
       "      <td>0.000</td>\n",
       "      <td>0.000</td>\n",
       "      <td>1.000</td>\n",
       "      <td>0.0000</td>\n",
       "    </tr>\n",
       "  </tbody>\n",
       "</table>\n",
       "<p>5 rows × 22 columns</p>\n",
       "</div>"
      ],
      "text/plain": [
       "           Name                Type       Party  Republican  mean_word_length  \\\n",
       "0  Donald Trump  State of the Union  Republican           1           6.01407   \n",
       "1  Donald Trump  State of the Union  Republican           1           6.01407   \n",
       "2  Donald Trump  State of the Union  Republican           1           6.01407   \n",
       "3  Donald Trump  State of the Union  Republican           1           6.01407   \n",
       "4  Donald Trump  State of the Union  Republican           1           6.01407   \n",
       "\n",
       "   word_count  some_word_count  unique_word  some_unique_word  \\\n",
       "0     29897.0          22255.0       1659.0            1387.0   \n",
       "1     29897.0          22255.0       1659.0            1387.0   \n",
       "2     29897.0          22255.0       1659.0            1387.0   \n",
       "3     29897.0          22255.0       1659.0            1387.0   \n",
       "4     29897.0          22255.0       1659.0            1387.0   \n",
       "\n",
       "   unique_word_ratio  ...  mean_sentence_length positive_words  \\\n",
       "0           0.055491  ...            105.414634          244.0   \n",
       "1           0.055491  ...            105.414634          244.0   \n",
       "2           0.055491  ...            105.414634          244.0   \n",
       "3           0.055491  ...            105.414634          244.0   \n",
       "4           0.055491  ...            105.414634          244.0   \n",
       "\n",
       "   negative_words  positive_words_ratio  negative_words_ratio  \\\n",
       "0           177.0              0.010964              0.007953   \n",
       "1           177.0              0.010964              0.007953   \n",
       "2           177.0              0.010964              0.007953   \n",
       "3           177.0              0.010964              0.007953   \n",
       "4           177.0              0.010964              0.007953   \n",
       "\n",
       "                                           Sentences  vader_neg vader_pos  \\\n",
       "0        madam speaker, mr. vice president, membe...      0.000     0.097   \n",
       "1  as we begin a new congress, i stand here ready...      0.000     0.122   \n",
       "2  millions of our fellow citizens are watching u...      0.053     0.159   \n",
       "3  the agenda i will lay out this evening is not ...      0.000     0.000   \n",
       "4           it is the agenda of the american people.      0.000     0.000   \n",
       "\n",
       "   vader_neu  vader_com  \n",
       "0      0.903     0.4215  \n",
       "1      0.878     0.3612  \n",
       "2      0.788     0.4954  \n",
       "3      1.000     0.0000  \n",
       "4      1.000     0.0000  \n",
       "\n",
       "[5 rows x 22 columns]"
      ]
     },
     "execution_count": 14,
     "metadata": {},
     "output_type": "execute_result"
    }
   ],
   "source": [
    "df.head()"
   ]
  },
  {
   "cell_type": "markdown",
   "metadata": {},
   "source": [
    "## 3. Train - test split"
   ]
  },
  {
   "cell_type": "markdown",
   "metadata": {},
   "source": [
    "We'll set apart a test set to prove the quality of our models. We'll do Cross Validation in the train set in order to tune the hyperparameters and then test performance on the unseen data of the test set."
   ]
  },
  {
   "cell_type": "code",
   "execution_count": 15,
   "metadata": {},
   "outputs": [],
   "source": [
    "X_train, X_test, y_train, y_test = train_test_split(df['Sentences'], \n",
    "                                                    df['Republican'], \n",
    "                                                    test_size=0.30, \n",
    "                                                    random_state=8)"
   ]
  },
  {
   "cell_type": "markdown",
   "metadata": {},
   "source": [
    "Since we relatively many observations (21.932), we'll choose a train/test set size of 70/30 pct. of the full dataset."
   ]
  },
  {
   "cell_type": "markdown",
   "metadata": {},
   "source": [
    "## 4. Text representation"
   ]
  },
  {
   "cell_type": "markdown",
   "metadata": {},
   "source": [
    "We have various options:\n",
    "\n",
    "* Count Vectors as features\n",
    "* TF-IDF Vectors as features\n",
    "* Word Embeddings as features\n",
    "* Text / NLP based features\n",
    "* Topic Models as features"
   ]
  },
  {
   "cell_type": "markdown",
   "metadata": {},
   "source": [
    "We'll use **TF-IDF Vectors** as features."
   ]
  },
  {
   "cell_type": "markdown",
   "metadata": {},
   "source": [
    "We have to define the different parameters:\n",
    "\n",
    "* `ngram_range`: We want to consider both unigrams and bigrams.\n",
    "* `max_df`: When building the vocabulary ignore terms that have a document\n",
    "    frequency strictly higher than the given threshold\n",
    "* `min_df`: When building the vocabulary ignore terms that have a document\n",
    "    frequency strictly lower than the given threshold.\n",
    "* `max_features`: If not None, build a vocabulary that only consider the top\n",
    "    max_features ordered by term frequency across the corpus."
   ]
  },
  {
   "cell_type": "markdown",
   "metadata": {},
   "source": [
    "It needs to be mentioned that we are implicitly scaling our data when representing it as TF-IDF features with the argument `norm`."
   ]
  },
  {
   "cell_type": "code",
   "execution_count": 16,
   "metadata": {},
   "outputs": [],
   "source": [
    "# Parameter election\n",
    "ngram_range = (1,2)\n",
    "min_df = 10\n",
    "max_df = 1.\n",
    "max_features = 22"
   ]
  },
  {
   "cell_type": "markdown",
   "metadata": {},
   "source": [
    "We have chosen these values as a first approximation. Due to time constraints, we'll stick to these values. But it has to be mentioned that different combinations could be tried in order to improve even more the accuracy of the models."
   ]
  },
  {
   "cell_type": "code",
   "execution_count": 17,
   "metadata": {
    "scrolled": true
   },
   "outputs": [
    {
     "name": "stdout",
     "output_type": "stream",
     "text": [
      "(15352, 22)\n",
      "(6580, 22)\n"
     ]
    }
   ],
   "source": [
    "tfidf = TfidfVectorizer(encoding='utf-8',\n",
    "                        ngram_range=ngram_range,\n",
    "                        stop_words=None,\n",
    "                        lowercase=False,\n",
    "                        max_df=max_df,\n",
    "                        min_df=min_df,\n",
    "                        max_features=max_features,\n",
    "                        norm='l2',\n",
    "                        sublinear_tf=True)\n",
    "                        \n",
    "features_train = tfidf.fit_transform(X_train).toarray()\n",
    "labels_train = y_train\n",
    "print(features_train.shape)\n",
    "\n",
    "features_test = tfidf.transform(X_test).toarray()\n",
    "labels_test = y_test\n",
    "print(features_test.shape)"
   ]
  },
  {
   "cell_type": "markdown",
   "metadata": {},
   "source": [
    "Please note that we have fitted and then transformed the training set, but we have **only transformed** the **test set**."
   ]
  },
  {
   "cell_type": "markdown",
   "metadata": {},
   "source": [
    "Let's save the files we'll need in the next steps:"
   ]
  },
  {
   "cell_type": "code",
   "execution_count": 20,
   "metadata": {},
   "outputs": [],
   "source": [
    "# X_train\n",
    "with open('Pickles/X_train.pickle', 'wb') as output:\n",
    "    pickle.dump(X_train, output)\n",
    "    \n",
    "# X_test    \n",
    "with open('Pickles/X_test.pickle', 'wb') as output:\n",
    "    pickle.dump(X_test, output)\n",
    "    \n",
    "# y_train\n",
    "with open('Pickles/y_train.pickle', 'wb') as output:\n",
    "    pickle.dump(y_train, output)\n",
    "    \n",
    "# y_test\n",
    "with open('Pickles/y_test.pickle', 'wb') as output:\n",
    "    pickle.dump(y_test, output)\n",
    "    \n",
    "# df\n",
    "with open('Pickles/df.pickle', 'wb') as output:\n",
    "    pickle.dump(df, output)\n",
    "    \n",
    "# features_train\n",
    "with open('Pickles/features_train.pickle', 'wb') as output:\n",
    "    pickle.dump(features_train, output)\n",
    "\n",
    "# labels_train\n",
    "with open('Pickles/labels_train.pickle', 'wb') as output:\n",
    "    pickle.dump(labels_train, output)\n",
    "\n",
    "# features_test\n",
    "with open('Pickles/features_test.pickle', 'wb') as output:\n",
    "    pickle.dump(features_test, output)\n",
    "\n",
    "# labels_test\n",
    "with open('Pickles/labels_test.pickle', 'wb') as output:\n",
    "    pickle.dump(labels_test, output)\n",
    "    \n",
    "# TF-IDF object\n",
    "with open('Pickles/tfidf.pickle', 'wb') as output:\n",
    "    pickle.dump(tfidf, output)"
   ]
  }
 ],
 "metadata": {
  "kernelspec": {
   "display_name": "Python 3",
   "language": "python",
   "name": "python3"
  },
  "language_info": {
   "codemirror_mode": {
    "name": "ipython",
    "version": 3
   },
   "file_extension": ".py",
   "mimetype": "text/x-python",
   "name": "python",
   "nbconvert_exporter": "python",
   "pygments_lexer": "ipython3",
   "version": "3.7.3"
  }
 },
 "nbformat": 4,
 "nbformat_minor": 2
}
