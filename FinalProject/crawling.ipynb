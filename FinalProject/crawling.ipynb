{
 "cells": [
  {
   "cell_type": "markdown",
   "metadata": {},
   "source": [
    "# Crawling State of the Union Adresses from millercenter.org website"
   ]
  },
  {
   "cell_type": "code",
   "execution_count": 1,
   "metadata": {},
   "outputs": [],
   "source": [
    "# Loading packages\n",
    "\n",
    "import requests\n",
    "from bs4 import BeautifulSoup\n",
    "import os\n",
    "from selenium import webdriver\n",
    "from selenium.webdriver.common.keys import Keys\n",
    "import time\n",
    "import re\n",
    "import pandas as pd\n",
    "import numpy as np"
   ]
  },
  {
   "cell_type": "markdown",
   "metadata": {},
   "source": [
    "## Checking robots.txt"
   ]
  },
  {
   "cell_type": "code",
   "execution_count": 2,
   "metadata": {},
   "outputs": [
    {
     "name": "stdout",
     "output_type": "stream",
     "text": [
      "<html><head></head><body>#\n",
      "# robots.txt\n",
      "#\n",
      "# This file is to prevent the crawling and indexing of certain parts\n",
      "# of your site by web crawlers and spiders run by sites like Yahoo!\n",
      "# and Google. By telling these \"robots\" where not to go on your site,\n",
      "# you save bandwidth and server resources.\n",
      "#\n",
      "# This file will be ignored unless it is at the root of your host:\n",
      "# Used:    http://example.com/robots.txt\n",
      "# Ignored: http://example.com/site/robots.txt\n",
      "#\n",
      "# For more information about the robots.txt standard, see:\n",
      "# http://www.robotstxt.org/robotstxt.html\n",
      "\n",
      "User-agent: *\n",
      "# CSS, JS, Images\n",
      "Allow: /core/*.css$\n",
      "Allow: /core/*.css?\n",
      "Allow: /core/*.js$\n",
      "Allow: /core/*.js?\n",
      "Allow: /core/*.gif\n",
      "Allow: /core/*.jpg\n",
      "Allow: /core/*.jpeg\n",
      "Allow: /core/*.png\n",
      "Allow: /core/*.svg\n",
      "Allow: /profiles/*.css$\n",
      "Allow: /profiles/*.css?\n",
      "Allow: /profiles/*.js$\n",
      "Allow: /profiles/*.js?\n",
      "Allow: /profiles/*.gif\n",
      "Allow: /profiles/*.jpg\n",
      "Allow: /profiles/*.jpeg\n",
      "Allow: /profiles/*.png\n",
      "Allow: /profiles/*.svg\n",
      "# Directories\n",
      "Disallow: /core/\n",
      "Disallow: /profiles/\n",
      "# Files\n",
      "Disallow: /README.txt\n",
      "Disallow: /web.config\n",
      "# Paths (clean URLs)\n",
      "Disallow: /admin/\n",
      "Disallow: /comment/reply/\n",
      "Disallow: /filter/tips\n",
      "Disallow: /node/add/\n",
      "Disallow: /search/\n",
      "Disallow: /user/register/\n",
      "Disallow: /user/password/\n",
      "Disallow: /user/login/\n",
      "Disallow: /user/logout/\n",
      "# Paths (no clean URLs)\n",
      "Disallow: /index.php/admin/\n",
      "Disallow: /index.php/comment/reply/\n",
      "Disallow: /index.php/filter/tips\n",
      "Disallow: /index.php/node/add/\n",
      "Disallow: /index.php/search/\n",
      "Disallow: /index.php/user/password/\n",
      "Disallow: /index.php/user/register/\n",
      "Disallow: /index.php/user/login/\n",
      "Disallow: /index.php/user/logout/\n",
      "</body></html>\n"
     ]
    }
   ],
   "source": [
    "url = \"https://millercenter.org/robots.txt\"\n",
    "r = requests.get(url)\n",
    "robots = BeautifulSoup(r.text, 'html5lib')\n",
    "\n",
    "print(robots)"
   ]
  },
  {
   "cell_type": "code",
   "execution_count": 3,
   "metadata": {},
   "outputs": [],
   "source": [
    "# It is not prohibited to crawl data from /the-presidency/presidential-speeches/\n",
    "# Therefore we are fine to continue!"
   ]
  },
  {
   "cell_type": "code",
   "execution_count": 4,
   "metadata": {},
   "outputs": [],
   "source": [
    "# creating directory for storing speeches\n",
    "\n",
    "cwd =  os.getcwd()\n",
    "if not os.path.exists(str(cwd) + \"/speeches\"):\n",
    "    os.mkdir(str(cwd) + \"/speeches\")\n"
   ]
  },
  {
   "cell_type": "code",
   "execution_count": 5,
   "metadata": {},
   "outputs": [],
   "source": [
    "# setting default download folder for chromedriver\n",
    "# (do not forget to place the chromedriver in the working directory if not yet done)\n",
    "\n",
    "chromeOptions = webdriver.ChromeOptions()\n",
    "preferences = {\"download.default_directory\" : os.path.join(str(cwd),\"/speeches\")}\n",
    "chromeOptions.add_experimental_option(\"prefs\",preferences)"
   ]
  },
  {
   "cell_type": "code",
   "execution_count": 6,
   "metadata": {},
   "outputs": [],
   "source": [
    "# connecting to browser\n",
    "\n",
    "browser = webdriver.Chrome(executable_path = os.path.join(os.getcwd(), \"chromedriver\"), options=chromeOptions) "
   ]
  },
  {
   "cell_type": "code",
   "execution_count": 7,
   "metadata": {},
   "outputs": [],
   "source": [
    "# opening the https://millercenter.org/the-presidency/presidential-speeches website in chrome\n",
    "\n",
    "browser.get(\"https://millercenter.org/the-presidency/presidential-speeches\")"
   ]
  },
  {
   "cell_type": "code",
   "execution_count": 8,
   "metadata": {},
   "outputs": [],
   "source": [
    "# This website is dynamic (as are the individual presidents sites). The further we scroll down \n",
    "# the more links to speeches are shown."
   ]
  },
  {
   "cell_type": "code",
   "execution_count": 9,
   "metadata": {
    "scrolled": true
   },
   "outputs": [],
   "source": [
    "pause = 4 # had some interruptions with less than 3 seconds, with 3 and 4 s I made it to the bottom of the page\n",
    "\n",
    "# Scrolling step by step automatically down, until the end of the page is reached\n",
    "# Get scroll height\n",
    "last_height = browser.execute_script(\"return document.body.scrollHeight\")\n",
    "\n",
    "while True:\n",
    "    # Scroll down to bottom of the page\n",
    "    browser.execute_script(\"window.scrollTo(0, document.body.scrollHeight);\")\n",
    "\n",
    "    # Wait to load page\n",
    "    time.sleep(pause)\n",
    "\n",
    "    # Calculate new scroll height and compare with previous scroll height\n",
    "    new_height = browser.execute_script(\"return document.body.scrollHeight\")\n",
    "    \n",
    "    if new_height == last_height:\n",
    "        # Getting the last version of the html code of the site after scrolling finished\n",
    "        html = browser.page_source\n",
    "        soup = BeautifulSoup(html, 'html5lib')\n",
    "        links = [link.get('href') for link in soup.find_all('a')]\n",
    "        break\n",
    "        \n",
    "    last_height = new_height"
   ]
  },
  {
   "cell_type": "code",
   "execution_count": 10,
   "metadata": {},
   "outputs": [],
   "source": [
    "# Getting all links out of the soup and deleting None's\n",
    "links = [link.get('href') for link in soup.find_all('a')]\n",
    "links = list(filter(None, links)) "
   ]
  },
  {
   "cell_type": "code",
   "execution_count": 14,
   "metadata": {},
   "outputs": [],
   "source": [
    "# Filtering for 'state-union-address' as part if the link and adding to stateoftheunion list\n",
    "\n",
    "stateoftheunion = []\n",
    "\n",
    "for l in links:\n",
    "    if 'state-union-address' in l: \n",
    "        stateoftheunion.append(\"https://millercenter.org\"+l)\n"
   ]
  },
  {
   "cell_type": "code",
   "execution_count": 15,
   "metadata": {},
   "outputs": [
    {
     "data": {
      "text/plain": [
       "['https://millercenter.org/the-presidency/presidential-speeches/february-5-2019-state-union-address',\n",
       " 'https://millercenter.org/the-presidency/presidential-speeches/january-30-2018-state-union-address',\n",
       " 'https://millercenter.org/the-presidency/presidential-speeches/january-12-2016-2016-state-union-address',\n",
       " 'https://millercenter.org/the-presidency/presidential-speeches/january-20-2015-2015-state-union-address',\n",
       " 'https://millercenter.org/the-presidency/presidential-speeches/january-28-2014-2014-state-union-address',\n",
       " 'https://millercenter.org/the-presidency/presidential-speeches/february-13-2013-2013-state-union-address',\n",
       " 'https://millercenter.org/the-presidency/presidential-speeches/january-24-2012-2012-state-union-address',\n",
       " 'https://millercenter.org/the-presidency/presidential-speeches/january-25-2011-2011-state-union-address',\n",
       " 'https://millercenter.org/the-presidency/presidential-speeches/january-27-2010-2010-state-union-address',\n",
       " 'https://millercenter.org/the-presidency/presidential-speeches/january-28-2008-state-union-address',\n",
       " 'https://millercenter.org/the-presidency/presidential-speeches/january-23-2007-state-union-address',\n",
       " 'https://millercenter.org/the-presidency/presidential-speeches/january-31-2006-state-union-address',\n",
       " 'https://millercenter.org/the-presidency/presidential-speeches/february-2-2005-state-union-address',\n",
       " 'https://millercenter.org/the-presidency/presidential-speeches/january-20-2004-state-union-address',\n",
       " 'https://millercenter.org/the-presidency/presidential-speeches/january-28-2003-state-union-address',\n",
       " 'https://millercenter.org/the-presidency/presidential-speeches/january-29-2002-state-union-address',\n",
       " 'https://millercenter.org/the-presidency/presidential-speeches/january-27-2000-state-union-address',\n",
       " 'https://millercenter.org/the-presidency/presidential-speeches/january-19-1999-state-union-address',\n",
       " 'https://millercenter.org/the-presidency/presidential-speeches/january-27-1998-state-union-address',\n",
       " 'https://millercenter.org/the-presidency/presidential-speeches/february-4-1997-state-union-address',\n",
       " 'https://millercenter.org/the-presidency/presidential-speeches/january-23-1996-state-union-address',\n",
       " 'https://millercenter.org/the-presidency/presidential-speeches/january-24-1995-state-union-address',\n",
       " 'https://millercenter.org/the-presidency/presidential-speeches/january-25-1994-state-union-address',\n",
       " 'https://millercenter.org/the-presidency/presidential-speeches/january-28-1992-state-union-address',\n",
       " 'https://millercenter.org/the-presidency/presidential-speeches/january-29-1991-state-union-address',\n",
       " 'https://millercenter.org/the-presidency/presidential-speeches/january-31-1990-state-union-address',\n",
       " 'https://millercenter.org/the-presidency/presidential-speeches/january-25-1988-state-union-address',\n",
       " 'https://millercenter.org/the-presidency/presidential-speeches/january-27-1987-state-union-address',\n",
       " 'https://millercenter.org/the-presidency/presidential-speeches/february-4-1986-state-union-address',\n",
       " 'https://millercenter.org/the-presidency/presidential-speeches/february-6-1985-state-union-address',\n",
       " 'https://millercenter.org/the-presidency/presidential-speeches/january-25-1984-state-union-address',\n",
       " 'https://millercenter.org/the-presidency/presidential-speeches/january-25-1983-state-union-address',\n",
       " 'https://millercenter.org/the-presidency/presidential-speeches/january-26-1982-state-union-address',\n",
       " 'https://millercenter.org/the-presidency/presidential-speeches/january-23-1980-state-union-address',\n",
       " 'https://millercenter.org/the-presidency/presidential-speeches/january-23-1979-state-union-address',\n",
       " 'https://millercenter.org/the-presidency/presidential-speeches/january-19-1978-state-union-address',\n",
       " 'https://millercenter.org/the-presidency/presidential-speeches/january-12-1977-state-union-address',\n",
       " 'https://millercenter.org/the-presidency/presidential-speeches/january-19-1976-state-union-address',\n",
       " 'https://millercenter.org/the-presidency/presidential-speeches/january-15-1975-state-union-address',\n",
       " 'https://millercenter.org/the-presidency/presidential-speeches/january-30-1974-state-union-address',\n",
       " 'https://millercenter.org/the-presidency/presidential-speeches/january-20-1972-state-union-address',\n",
       " 'https://millercenter.org/the-presidency/presidential-speeches/january-22-1971-state-union-address',\n",
       " 'https://millercenter.org/the-presidency/presidential-speeches/january-22-1970-state-union-address',\n",
       " 'https://millercenter.org/the-presidency/presidential-speeches/january-14-1969-state-union-address',\n",
       " 'https://millercenter.org/the-presidency/presidential-speeches/january-17-1968-state-union-address',\n",
       " 'https://millercenter.org/the-presidency/presidential-speeches/january-10-1967-state-union-address',\n",
       " 'https://millercenter.org/the-presidency/presidential-speeches/january-14-1963-state-union-address',\n",
       " 'https://millercenter.org/the-presidency/presidential-speeches/january-11-1962-state-union-address',\n",
       " 'https://millercenter.org/the-presidency/presidential-speeches/january-7-1943-state-union-address',\n",
       " 'https://millercenter.org/the-presidency/presidential-speeches/december-6-1932-fourth-state-union-address',\n",
       " 'https://millercenter.org/the-presidency/presidential-speeches/december-8-1931-third-state-union-address',\n",
       " 'https://millercenter.org/the-presidency/presidential-speeches/december-2-1930-second-state-union-address',\n",
       " 'https://millercenter.org/the-presidency/presidential-speeches/december-3-1929-first-state-union-address']"
      ]
     },
     "execution_count": 15,
     "metadata": {},
     "output_type": "execute_result"
    }
   ],
   "source": [
    "stateoftheunion"
   ]
  },
  {
   "cell_type": "code",
   "execution_count": null,
   "metadata": {},
   "outputs": [],
   "source": [
    "# Question: why are some years missing? e.g. 2001, 1993, 1981 ? First year of new presidency no sotu speech?"
   ]
  },
  {
   "cell_type": "code",
   "execution_count": null,
   "metadata": {},
   "outputs": [],
   "source": [
    "# Next step: crawling / looping over all links and getting the speech text, storing it with some meaningful name\n",
    "# presidents name + date.txt?"
   ]
  }
 ],
 "metadata": {
  "kernelspec": {
   "display_name": "Python 3",
   "language": "python",
   "name": "python3"
  },
  "language_info": {
   "codemirror_mode": {
    "name": "ipython",
    "version": 3
   },
   "file_extension": ".py",
   "mimetype": "text/x-python",
   "name": "python",
   "nbconvert_exporter": "python",
   "pygments_lexer": "ipython3",
   "version": "3.7.3"
  }
 },
 "nbformat": 4,
 "nbformat_minor": 2
}
