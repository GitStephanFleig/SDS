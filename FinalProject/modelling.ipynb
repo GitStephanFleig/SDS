{
 "cells": [
  {
   "cell_type": "code",
   "execution_count": 1,
   "metadata": {},
   "outputs": [],
   "source": [
    "# Loading packages\n",
    "\n",
    "import requests\n",
    "from bs4 import BeautifulSoup\n",
    "import os\n",
    "from selenium import webdriver\n",
    "from selenium.webdriver.common.keys import Keys\n",
    "import time\n",
    "import re\n",
    "import pandas as pd\n",
    "import numpy as np"
   ]
  },
  {
   "cell_type": "code",
   "execution_count": 3,
   "metadata": {},
   "outputs": [],
   "source": [
    "# Load df from disk\n",
    "\n",
    "df = pd.read_csv(\"speeches/data.csv\")"
   ]
  },
  {
   "cell_type": "code",
   "execution_count": 4,
   "metadata": {},
   "outputs": [
    {
     "data": {
      "text/html": [
       "<div>\n",
       "<style scoped>\n",
       "    .dataframe tbody tr th:only-of-type {\n",
       "        vertical-align: middle;\n",
       "    }\n",
       "\n",
       "    .dataframe tbody tr th {\n",
       "        vertical-align: top;\n",
       "    }\n",
       "\n",
       "    .dataframe thead th {\n",
       "        text-align: right;\n",
       "    }\n",
       "</style>\n",
       "<table border=\"1\" class=\"dataframe\">\n",
       "  <thead>\n",
       "    <tr style=\"text-align: right;\">\n",
       "      <th></th>\n",
       "      <th>Unnamed: 0</th>\n",
       "      <th>Name</th>\n",
       "      <th>Date</th>\n",
       "      <th>Speech</th>\n",
       "      <th>Type</th>\n",
       "      <th>Party</th>\n",
       "    </tr>\n",
       "  </thead>\n",
       "  <tbody>\n",
       "    <tr>\n",
       "      <th>0</th>\n",
       "      <td>0</td>\n",
       "      <td>Donald Trump</td>\n",
       "      <td>February 05, 2019</td>\n",
       "      <td>\\n      transcript-innerTranscripttranscript-i...</td>\n",
       "      <td>State of the Union</td>\n",
       "      <td>Republican</td>\n",
       "    </tr>\n",
       "    <tr>\n",
       "      <th>1</th>\n",
       "      <td>1</td>\n",
       "      <td>Donald Trump</td>\n",
       "      <td>January 30, 2018</td>\n",
       "      <td>\\n      transcript-innerTranscripttranscript-i...</td>\n",
       "      <td>State of the Union</td>\n",
       "      <td>Republican</td>\n",
       "    </tr>\n",
       "    <tr>\n",
       "      <th>2</th>\n",
       "      <td>2</td>\n",
       "      <td>Donald Trump</td>\n",
       "      <td>January 20, 2017</td>\n",
       "      <td>\\n      transcript-innerTranscripttranscript-i...</td>\n",
       "      <td>Inaugural Address</td>\n",
       "      <td>Republican</td>\n",
       "    </tr>\n",
       "    <tr>\n",
       "      <th>3</th>\n",
       "      <td>3</td>\n",
       "      <td>Barack Obama</td>\n",
       "      <td>January 12, 2016</td>\n",
       "      <td>\\n      transcript-innerTranscripttranscript-i...</td>\n",
       "      <td>State of the Union</td>\n",
       "      <td>Democrat</td>\n",
       "    </tr>\n",
       "    <tr>\n",
       "      <th>4</th>\n",
       "      <td>4</td>\n",
       "      <td>Barack Obama</td>\n",
       "      <td>January 20, 2015</td>\n",
       "      <td>\\n      transcript-innerTranscripttranscript-i...</td>\n",
       "      <td>State of the Union</td>\n",
       "      <td>Democrat</td>\n",
       "    </tr>\n",
       "  </tbody>\n",
       "</table>\n",
       "</div>"
      ],
      "text/plain": [
       "   Unnamed: 0          Name               Date  \\\n",
       "0           0  Donald Trump  February 05, 2019   \n",
       "1           1  Donald Trump   January 30, 2018   \n",
       "2           2  Donald Trump   January 20, 2017   \n",
       "3           3  Barack Obama   January 12, 2016   \n",
       "4           4  Barack Obama   January 20, 2015   \n",
       "\n",
       "                                              Speech                Type  \\\n",
       "0  \\n      transcript-innerTranscripttranscript-i...  State of the Union   \n",
       "1  \\n      transcript-innerTranscripttranscript-i...  State of the Union   \n",
       "2  \\n      transcript-innerTranscripttranscript-i...   Inaugural Address   \n",
       "3  \\n      transcript-innerTranscripttranscript-i...  State of the Union   \n",
       "4  \\n      transcript-innerTranscripttranscript-i...  State of the Union   \n",
       "\n",
       "        Party  \n",
       "0  Republican  \n",
       "1  Republican  \n",
       "2  Republican  \n",
       "3    Democrat  \n",
       "4    Democrat  "
      ]
     },
     "execution_count": 4,
     "metadata": {},
     "output_type": "execute_result"
    }
   ],
   "source": [
    "df.head()"
   ]
  },
  {
   "cell_type": "code",
   "execution_count": null,
   "metadata": {},
   "outputs": [],
   "source": []
  }
 ],
 "metadata": {
  "kernelspec": {
   "display_name": "Python 3",
   "language": "python",
   "name": "python3"
  },
  "language_info": {
   "codemirror_mode": {
    "name": "ipython",
    "version": 3
   },
   "file_extension": ".py",
   "mimetype": "text/x-python",
   "name": "python",
   "nbconvert_exporter": "python",
   "pygments_lexer": "ipython3",
   "version": "3.7.3"
  }
 },
 "nbformat": 4,
 "nbformat_minor": 2
}
