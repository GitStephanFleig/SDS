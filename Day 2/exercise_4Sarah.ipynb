{
 "cells": [
  {
   "cell_type": "markdown",
   "metadata": {},
   "source": [
    "# Exercise Set 4: Data Structuring 1\n",
    "\n",
    "*Afternoon, August 13, 2019*\n",
    "\n",
    "In this Exercise Set we will apply some of the basic things we have learned with pandas."
   ]
  },
  {
   "cell_type": "markdown",
   "metadata": {},
   "source": [
    "#### Load modules\n",
    "We begin by loading relevant packages."
   ]
  },
  {
   "cell_type": "code",
   "execution_count": 2,
   "metadata": {},
   "outputs": [],
   "source": [
    "import numpy as np\n",
    "import pandas as pd"
   ]
  },
  {
   "cell_type": "markdown",
   "metadata": {},
   "source": [
    "##  Exercise Section 4.1: Weather, part 1\n",
    "\n",
    "Some data sources are open and easy to collect data from. They can be 'scraped' as is and they are already in a table format. This Exercise part of exercises is the first part of three that work with weather data, the follow ups are Exercise Sections 6.1 and 7.1. Our source will be National Oceanic and Atmospheric Administration (NOAA) which have a global data collection going back a couple of centuries. This collection is called Global Historical Climatology Network (GHCN). A description of GHCN can be found [here](https://www1.ncdc.noaa.gov/pub/data/ghcn/daily/by_year/readme.txt)."
   ]
  },
  {
   "cell_type": "markdown",
   "metadata": {},
   "source": [
    "\n",
    "> **Ex. 4.1.1:** Use Pandas' CSV reader to fetch  daily data weather from 1864 for various stations - available [here](https://www1.ncdc.noaa.gov/pub/data/ghcn/daily/by_year/). \n",
    "\n",
    "> *Hint 1*: for compressed files you may need to specify the keyword `compression`.\n",
    "\n",
    "> *Hint 2*: keyword `header` can be specified as the CSV has no column names.\n",
    "\n",
    "> *Hint 3*: Specify the path, as the URL linking directly to the 1864 file. "
   ]
  },
  {
   "cell_type": "code",
   "execution_count": 3,
   "metadata": {},
   "outputs": [
    {
     "name": "stdout",
     "output_type": "stream",
     "text": [
      "             0         1     2    3    4    5  6   7\n",
      "0  ITE00100550  18640101  TMAX   10  NaN  NaN  E NaN\n",
      "1  ITE00100550  18640101  TMIN  -23  NaN  NaN  E NaN\n",
      "2  ITE00100550  18640101  PRCP   25  NaN  NaN  E NaN\n",
      "3  ASN00079028  18640101  PRCP    0  NaN  NaN  a NaN\n",
      "4  USC00064757  18640101  PRCP  119  NaN  NaN  F NaN\n"
     ]
    }
   ],
   "source": [
    "# [Answer to Ex. 4.1.1]\n",
    "url = 'https://www1.ncdc.noaa.gov/pub/data/ghcn/daily/by_year/1864.csv.gz'\n",
    "df = pd.read_csv(url, sep=',',compression=\"gzip\",header=None)\n",
    "\n",
    "print(df.head()) #prints the data, including header."
   ]
  },
  {
   "cell_type": "markdown",
   "metadata": {},
   "source": [
    "\n",
    "> **Ex. 4.1.2:** Structure your weather DataFrame by using only the relevant columns (station identifier, data, observation type, observation value), rename them. Make sure observations are correctly formated (how many decimals should we add? one?).\n",
    "\n",
    "> *Hint:* rename can be done with `df.columns=COLS` where `COLS` is a list of column names.\n"
   ]
  },
  {
   "cell_type": "code",
   "execution_count": 10,
   "metadata": {},
   "outputs": [
    {
     "name": "stdout",
     "output_type": "stream",
     "text": [
      "      station identifier      data observation type  observation value\n",
      "0            ITE00100550  18640101             TMAX                 10\n",
      "1            ITE00100550  18640101             TMIN                -23\n",
      "2            ITE00100550  18640101             PRCP                 25\n",
      "3            ASN00079028  18640101             PRCP                  0\n",
      "4            USC00064757  18640101             PRCP                119\n",
      "5            SF000208660  18640101             PRCP                  0\n",
      "6            ASN00089000  18640101             PRCP                  0\n",
      "7            SWE00100003  18640101             PRCP                  0\n",
      "8            ASN00086071  18640101             TMAX                214\n",
      "9            ASN00086071  18640101             TMIN                101\n",
      "10           ASN00086071  18640101             PRCP                  0\n",
      "11           USP00CA0003  18640101             PRCP                  0\n",
      "12           USC00189674  18640101             PRCP                  0\n",
      "13           USC00144559  18640101             PRCP                  0\n",
      "14           USC00144559  18640101             SNOW                  0\n",
      "15           CA006158350  18640101             TMAX                 11\n",
      "16           CA006158350  18640101             TMIN               -133\n",
      "17           CA006158350  18640101             PRCP                  5\n",
      "18           CA006158350  18640101             SNOW                  5\n",
      "19           HRE00105189  18640101             PRCP                189\n",
      "20           ASN00067054  18640101             PRCP                 61\n",
      "21           ASN00081003  18640101             PRCP                  0\n",
      "22           ASN00078037  18640101             PRCP                  0\n",
      "23           ASN00070037  18640101             PRCP                  0\n",
      "24           EIE00101859  18640101             TMAX                 94\n",
      "25           EIE00101859  18640101             TMIN                 11\n",
      "26           EIE00101859  18640101             PRCP                 82\n",
      "27           ASN00040214  18640101             PRCP                  3\n",
      "28           BE000006447  18640101             TMAX                -23\n",
      "29           BE000006447  18640101             TMIN                -36\n",
      "...                  ...       ...              ...                ...\n",
      "27319        ASN00066062  18641231             TMAX                223\n",
      "27320        ASN00066062  18641231             TMIN                172\n",
      "27321        ASN00066062  18641231             PRCP                 41\n",
      "27322        ASN00023000  18641231             PRCP                  0\n",
      "27323        SW000010537  18641231             PRCP                  0\n",
      "27324        ASN00022018  18641231             PRCP                  0\n",
      "27325        AU000005901  18641231             TMAX                -28\n",
      "27326        AU000005901  18641231             TMIN                -79\n",
      "27327        GM000004204  18641231             TMAX                -34\n",
      "27328        GM000004204  18641231             TMIN               -119\n",
      "27329        GM000004204  18641231             PRCP                  0\n",
      "27330        ASN00075048  18641231             PRCP                  0\n",
      "27331        UK000047811  18641231             TMAX                 40\n",
      "27332        UK000047811  18641231             TMIN                -14\n",
      "27333        UK000047811  18641231             PRCP                  0\n",
      "27334        HR000142360  18641231             PRCP                  0\n",
      "27335        ASN00084016  18641231             PRCP                 18\n",
      "27336        ITE00100552  18641231             PRCP                  0\n",
      "27337        ITE00100553  18641231             PRCP                  0\n",
      "27338        ITE00105250  18641231             PRCP                  0\n",
      "27339        USP00CA0001  18641231             PRCP                157\n",
      "27340        ASN00090015  18641231             TMAX                239\n",
      "27341        ASN00090015  18641231             TMIN                128\n",
      "27342        UK000056225  18641231             TMAX                 16\n",
      "27343        UK000056225  18641231             TMIN                -19\n",
      "27344        UK000056225  18641231             PRCP                  3\n",
      "27345        ASN00026026  18641231             PRCP                  0\n",
      "27346        ASN00089049  18641231             PRCP                  0\n",
      "27347        SZ000006717  18641231             TMAX                -62\n",
      "27348        SZ000006717  18641231             TMIN               -105\n",
      "\n",
      "[27349 rows x 4 columns]\n"
     ]
    }
   ],
   "source": [
    "# [Answer to Ex. 4.1.2]\n",
    "df1 = df.drop(columns=[4,5,6,7]).copy() #.copy() creates a new dataframe \n",
    "df1.columns = ['station identifier','data','observation type','observation value']\n",
    "print(df1)"
   ]
  },
  {
   "cell_type": "markdown",
   "metadata": {},
   "source": [
    "\n",
    "> **Ex. 4.1.3:**  Select data for the station `ITE00100550` and only observations for maximal temperature. Make a copy of the DataFrame. Explain in a one or two sentences how copying works.\n",
    "\n",
    "> *Hint 1*: the `&` operator works elementwise on boolean series (like `and` in core python).\n",
    "\n",
    "> *Hint 2*: copying of the dataframe is done with the `copy` method for DataFrames."
   ]
  },
  {
   "cell_type": "code",
   "execution_count": 15,
   "metadata": {},
   "outputs": [
    {
     "name": "stdout",
     "output_type": "stream",
     "text": [
      "      station identifier      data observation type  observation value\n",
      "0            ITE00100550  18640101             TMAX                 10\n",
      "75           ITE00100550  18640102             TMAX                  8\n",
      "152          ITE00100550  18640103             TMAX                -28\n",
      "227          ITE00100550  18640104             TMAX                  0\n",
      "305          ITE00100550  18640105             TMAX                -19\n",
      "383          ITE00100550  18640106             TMAX                -13\n",
      "460          ITE00100550  18640107             TMAX                 -4\n",
      "538          ITE00100550  18640108             TMAX                 13\n",
      "618          ITE00100550  18640109             TMAX                 13\n",
      "695          ITE00100550  18640110             TMAX                  6\n",
      "770          ITE00100550  18640111             TMAX                -15\n",
      "847          ITE00100550  18640112             TMAX                -25\n",
      "924          ITE00100550  18640113             TMAX                -43\n",
      "1002         ITE00100550  18640114             TMAX                -50\n",
      "1080         ITE00100550  18640115             TMAX                -31\n",
      "1158         ITE00100550  18640116             TMAX                -25\n",
      "1236         ITE00100550  18640117             TMAX                -63\n",
      "1311         ITE00100550  18640118             TMAX                -50\n",
      "1388         ITE00100550  18640119             TMAX                -16\n",
      "1465         ITE00100550  18640120             TMAX                 -9\n",
      "1542         ITE00100550  18640121             TMAX                 -4\n",
      "1619         ITE00100550  18640122             TMAX                  9\n",
      "1696         ITE00100550  18640123             TMAX                 25\n",
      "1774         ITE00100550  18640124             TMAX                 39\n",
      "1850         ITE00100550  18640125             TMAX                 38\n",
      "1928         ITE00100550  18640126             TMAX                 53\n",
      "2006         ITE00100550  18640127             TMAX                 44\n",
      "2084         ITE00100550  18640128             TMAX                 46\n",
      "2161         ITE00100550  18640129             TMAX                 35\n",
      "2238         ITE00100550  18640130             TMAX                 31\n",
      "...                  ...       ...              ...                ...\n",
      "25096        ITE00100550  18641202             TMAX                 73\n",
      "25172        ITE00100550  18641203             TMAX                 65\n",
      "25246        ITE00100550  18641204             TMAX                 56\n",
      "25321        ITE00100550  18641205             TMAX                 30\n",
      "25396        ITE00100550  18641206             TMAX                 31\n",
      "25471        ITE00100550  18641207             TMAX                 23\n",
      "25546        ITE00100550  18641208             TMAX                 39\n",
      "25621        ITE00100550  18641209             TMAX                 65\n",
      "25697        ITE00100550  18641210             TMAX                 60\n",
      "25772        ITE00100550  18641211             TMAX                 66\n",
      "25845        ITE00100550  18641212             TMAX                 46\n",
      "25922        ITE00100550  18641213             TMAX                 31\n",
      "25996        ITE00100550  18641214             TMAX                 44\n",
      "26073        ITE00100550  18641215             TMAX                 69\n",
      "26148        ITE00100550  18641216             TMAX                 84\n",
      "26224        ITE00100550  18641217             TMAX                 85\n",
      "26299        ITE00100550  18641218             TMAX                 76\n",
      "26372        ITE00100550  18641219             TMAX                 75\n",
      "26446        ITE00100550  18641220             TMAX                 76\n",
      "26522        ITE00100550  18641221             TMAX                 63\n",
      "26598        ITE00100550  18641222             TMAX                 50\n",
      "26672        ITE00100550  18641223             TMAX                 40\n",
      "26747        ITE00100550  18641224             TMAX                 40\n",
      "26822        ITE00100550  18641225             TMAX                 15\n",
      "26895        ITE00100550  18641226             TMAX                 16\n",
      "26968        ITE00100550  18641227             TMAX                 20\n",
      "27043        ITE00100550  18641228             TMAX                 63\n",
      "27119        ITE00100550  18641229             TMAX                 71\n",
      "27196        ITE00100550  18641230             TMAX                 50\n",
      "27272        ITE00100550  18641231             TMAX                 33\n",
      "\n",
      "[366 rows x 4 columns]\n"
     ]
    }
   ],
   "source": [
    "# [Answer to Ex. 4.1.3]\n",
    "stat_ITE_max =  df1.loc[(df1['station identifier']=='ITE00100550') & (df1['observation type']=='TMAX')].copy()\n",
    "print(stat_ITE_max)"
   ]
  },
  {
   "cell_type": "markdown",
   "metadata": {},
   "source": [
    "> **Ex. 4.1.4:** Make a new column called `TMAX_F` where you have converted the temperature variables to Fahrenheit. \n",
    "\n",
    "> *Hint*: Conversion is $F = 32 + 1.8*C$ where $F$ is Fahrenheit and $C$ is Celsius."
   ]
  },
  {
   "cell_type": "code",
   "execution_count": 17,
   "metadata": {},
   "outputs": [
    {
     "name": "stdout",
     "output_type": "stream",
     "text": [
      "      station identifier      data observation type  observation value  TMAX_F\n",
      "0            ITE00100550  18640101             TMAX                 10    50.0\n",
      "75           ITE00100550  18640102             TMAX                  8    46.4\n",
      "152          ITE00100550  18640103             TMAX                -28   -18.4\n",
      "227          ITE00100550  18640104             TMAX                  0    32.0\n",
      "305          ITE00100550  18640105             TMAX                -19    -2.2\n",
      "383          ITE00100550  18640106             TMAX                -13     8.6\n",
      "460          ITE00100550  18640107             TMAX                 -4    24.8\n",
      "538          ITE00100550  18640108             TMAX                 13    55.4\n",
      "618          ITE00100550  18640109             TMAX                 13    55.4\n",
      "695          ITE00100550  18640110             TMAX                  6    42.8\n",
      "770          ITE00100550  18640111             TMAX                -15     5.0\n",
      "847          ITE00100550  18640112             TMAX                -25   -13.0\n",
      "924          ITE00100550  18640113             TMAX                -43   -45.4\n",
      "1002         ITE00100550  18640114             TMAX                -50   -58.0\n",
      "1080         ITE00100550  18640115             TMAX                -31   -23.8\n",
      "1158         ITE00100550  18640116             TMAX                -25   -13.0\n",
      "1236         ITE00100550  18640117             TMAX                -63   -81.4\n",
      "1311         ITE00100550  18640118             TMAX                -50   -58.0\n",
      "1388         ITE00100550  18640119             TMAX                -16     3.2\n",
      "1465         ITE00100550  18640120             TMAX                 -9    15.8\n",
      "1542         ITE00100550  18640121             TMAX                 -4    24.8\n",
      "1619         ITE00100550  18640122             TMAX                  9    48.2\n",
      "1696         ITE00100550  18640123             TMAX                 25    77.0\n",
      "1774         ITE00100550  18640124             TMAX                 39   102.2\n",
      "1850         ITE00100550  18640125             TMAX                 38   100.4\n",
      "1928         ITE00100550  18640126             TMAX                 53   127.4\n",
      "2006         ITE00100550  18640127             TMAX                 44   111.2\n",
      "2084         ITE00100550  18640128             TMAX                 46   114.8\n",
      "2161         ITE00100550  18640129             TMAX                 35    95.0\n",
      "2238         ITE00100550  18640130             TMAX                 31    87.8\n",
      "...                  ...       ...              ...                ...     ...\n",
      "25096        ITE00100550  18641202             TMAX                 73   163.4\n",
      "25172        ITE00100550  18641203             TMAX                 65   149.0\n",
      "25246        ITE00100550  18641204             TMAX                 56   132.8\n",
      "25321        ITE00100550  18641205             TMAX                 30    86.0\n",
      "25396        ITE00100550  18641206             TMAX                 31    87.8\n",
      "25471        ITE00100550  18641207             TMAX                 23    73.4\n",
      "25546        ITE00100550  18641208             TMAX                 39   102.2\n",
      "25621        ITE00100550  18641209             TMAX                 65   149.0\n",
      "25697        ITE00100550  18641210             TMAX                 60   140.0\n",
      "25772        ITE00100550  18641211             TMAX                 66   150.8\n",
      "25845        ITE00100550  18641212             TMAX                 46   114.8\n",
      "25922        ITE00100550  18641213             TMAX                 31    87.8\n",
      "25996        ITE00100550  18641214             TMAX                 44   111.2\n",
      "26073        ITE00100550  18641215             TMAX                 69   156.2\n",
      "26148        ITE00100550  18641216             TMAX                 84   183.2\n",
      "26224        ITE00100550  18641217             TMAX                 85   185.0\n",
      "26299        ITE00100550  18641218             TMAX                 76   168.8\n",
      "26372        ITE00100550  18641219             TMAX                 75   167.0\n",
      "26446        ITE00100550  18641220             TMAX                 76   168.8\n",
      "26522        ITE00100550  18641221             TMAX                 63   145.4\n",
      "26598        ITE00100550  18641222             TMAX                 50   122.0\n",
      "26672        ITE00100550  18641223             TMAX                 40   104.0\n",
      "26747        ITE00100550  18641224             TMAX                 40   104.0\n",
      "26822        ITE00100550  18641225             TMAX                 15    59.0\n",
      "26895        ITE00100550  18641226             TMAX                 16    60.8\n",
      "26968        ITE00100550  18641227             TMAX                 20    68.0\n",
      "27043        ITE00100550  18641228             TMAX                 63   145.4\n",
      "27119        ITE00100550  18641229             TMAX                 71   159.8\n",
      "27196        ITE00100550  18641230             TMAX                 50   122.0\n",
      "27272        ITE00100550  18641231             TMAX                 33    91.4\n",
      "\n",
      "[366 rows x 5 columns]\n"
     ]
    }
   ],
   "source": [
    "# [Answer to Ex. 4.1.4]\n",
    "# adding a column of Fahrenheit degrees to dataframe.\n",
    "stat_ITE_max['TMAX_F'] = stat_ITE_max['observation value']*1.8+32\n",
    "print(stat_ITE_max)"
   ]
  },
  {
   "cell_type": "markdown",
   "metadata": {},
   "source": [
    "> **Ex 4.1.5:**  Inspect the indices, are they following the sequence of natural numbers, 0,1,2,...? If not, reset the index and make sure to drop the old."
   ]
  },
  {
   "cell_type": "code",
   "execution_count": 35,
   "metadata": {},
   "outputs": [
    {
     "name": "stdout",
     "output_type": "stream",
     "text": [
      "    station identifier      data observation type  observation value  TMAX_F\n",
      "0          ITE00100550  18640117             TMAX                -63   -81.4\n",
      "1          ITE00100550  18640118             TMAX                -50   -58.0\n",
      "2          ITE00100550  18640114             TMAX                -50   -58.0\n",
      "3          ITE00100550  18640113             TMAX                -43   -45.4\n",
      "4          ITE00100550  18640115             TMAX                -31   -23.8\n",
      "5          ITE00100550  18640103             TMAX                -28   -18.4\n",
      "6          ITE00100550  18640116             TMAX                -25   -13.0\n",
      "7          ITE00100550  18640112             TMAX                -25   -13.0\n",
      "8          ITE00100550  18640105             TMAX                -19    -2.2\n",
      "9          ITE00100550  18640211             TMAX                -18    -0.4\n",
      "10         ITE00100550  18640119             TMAX                -16     3.2\n",
      "11         ITE00100550  18640111             TMAX                -15     5.0\n",
      "12         ITE00100550  18640106             TMAX                -13     8.6\n",
      "13         ITE00100550  18640210             TMAX                -10    14.0\n",
      "14         ITE00100550  18640120             TMAX                 -9    15.8\n",
      "15         ITE00100550  18640208             TMAX                 -6    21.2\n",
      "16         ITE00100550  18640107             TMAX                 -4    24.8\n",
      "17         ITE00100550  18640121             TMAX                 -4    24.8\n",
      "18         ITE00100550  18640104             TMAX                  0    32.0\n",
      "19         ITE00100550  18640220             TMAX                  0    32.0\n",
      "20         ITE00100550  18640131             TMAX                  1    33.8\n",
      "21         ITE00100550  18640110             TMAX                  6    42.8\n",
      "22         ITE00100550  18640102             TMAX                  8    46.4\n",
      "23         ITE00100550  18640209             TMAX                  9    48.2\n",
      "24         ITE00100550  18640122             TMAX                  9    48.2\n",
      "25         ITE00100550  18640101             TMAX                 10    50.0\n",
      "26         ITE00100550  18640202             TMAX                 11    51.8\n",
      "27         ITE00100550  18640108             TMAX                 13    55.4\n",
      "28         ITE00100550  18640109             TMAX                 13    55.4\n",
      "29         ITE00100550  18640201             TMAX                 13    55.4\n",
      "..                 ...       ...              ...                ...     ...\n",
      "336        ITE00100550  18640909             TMAX                299   570.2\n",
      "337        ITE00100550  18640803             TMAX                300   572.0\n",
      "338        ITE00100550  18640623             TMAX                300   572.0\n",
      "339        ITE00100550  18640706             TMAX                300   572.0\n",
      "340        ITE00100550  18640713             TMAX                303   577.4\n",
      "341        ITE00100550  18640717             TMAX                304   579.2\n",
      "342        ITE00100550  18640727             TMAX                306   582.8\n",
      "343        ITE00100550  18640718             TMAX                308   586.4\n",
      "344        ITE00100550  18640821             TMAX                309   588.2\n",
      "345        ITE00100550  18640624             TMAX                309   588.2\n",
      "346        ITE00100550  18640728             TMAX                310   590.0\n",
      "347        ITE00100550  18640716             TMAX                310   590.0\n",
      "348        ITE00100550  18640804             TMAX                310   590.0\n",
      "349        ITE00100550  18640807             TMAX                310   590.0\n",
      "350        ITE00100550  18640823             TMAX                313   595.4\n",
      "351        ITE00100550  18640730             TMAX                313   595.4\n",
      "352        ITE00100550  18640731             TMAX                313   595.4\n",
      "353        ITE00100550  18640622             TMAX                313   595.4\n",
      "354        ITE00100550  18640720             TMAX                315   599.0\n",
      "355        ITE00100550  18640723             TMAX                318   604.4\n",
      "356        ITE00100550  18640816             TMAX                319   606.2\n",
      "357        ITE00100550  18640810             TMAX                321   609.8\n",
      "358        ITE00100550  18640722             TMAX                321   609.8\n",
      "359        ITE00100550  18640721             TMAX                325   617.0\n",
      "360        ITE00100550  18640806             TMAX                331   627.8\n",
      "361        ITE00100550  18640805             TMAX                335   635.0\n",
      "362        ITE00100550  18640801             TMAX                335   635.0\n",
      "363        ITE00100550  18640808             TMAX                341   645.8\n",
      "364        ITE00100550  18640802             TMAX                346   654.8\n",
      "365        ITE00100550  18640809             TMAX                348   658.4\n",
      "\n",
      "[366 rows x 5 columns]\n"
     ]
    }
   ],
   "source": [
    "# [Answer to Ex. 4.1.5]\n",
    "\n",
    "# changes the indices so that they follow a sequence, 0,1,2,3...\n",
    "# 'inplace' command replaces the dataset.\n",
    "stat_ITE_max.reset_index(inplace=True, drop=True)\n",
    "print(stat_ITE_max)"
   ]
  },
  {
   "cell_type": "markdown",
   "metadata": {},
   "source": [
    "> **Ex 4.1.6:** Make a new DataFrame where you have sorted by the maximum temperature. What is the date for the first and last observations?"
   ]
  },
  {
   "cell_type": "code",
   "execution_count": 39,
   "metadata": {},
   "outputs": [
    {
     "name": "stdout",
     "output_type": "stream",
     "text": [
      "    station identifier      data observation type  observation value  TMAX_F\n",
      "0          ITE00100550  18640117             TMAX                -63   -81.4\n",
      "1          ITE00100550  18640118             TMAX                -50   -58.0\n",
      "2          ITE00100550  18640114             TMAX                -50   -58.0\n",
      "3          ITE00100550  18640113             TMAX                -43   -45.4\n",
      "4          ITE00100550  18640115             TMAX                -31   -23.8\n",
      "5          ITE00100550  18640103             TMAX                -28   -18.4\n",
      "6          ITE00100550  18640116             TMAX                -25   -13.0\n",
      "7          ITE00100550  18640112             TMAX                -25   -13.0\n",
      "8          ITE00100550  18640105             TMAX                -19    -2.2\n",
      "9          ITE00100550  18640211             TMAX                -18    -0.4\n",
      "10         ITE00100550  18640119             TMAX                -16     3.2\n",
      "11         ITE00100550  18640111             TMAX                -15     5.0\n",
      "12         ITE00100550  18640106             TMAX                -13     8.6\n",
      "13         ITE00100550  18640210             TMAX                -10    14.0\n",
      "14         ITE00100550  18640120             TMAX                 -9    15.8\n",
      "15         ITE00100550  18640208             TMAX                 -6    21.2\n",
      "16         ITE00100550  18640107             TMAX                 -4    24.8\n",
      "17         ITE00100550  18640121             TMAX                 -4    24.8\n",
      "18         ITE00100550  18640104             TMAX                  0    32.0\n",
      "19         ITE00100550  18640220             TMAX                  0    32.0\n",
      "20         ITE00100550  18640131             TMAX                  1    33.8\n",
      "21         ITE00100550  18640110             TMAX                  6    42.8\n",
      "22         ITE00100550  18640102             TMAX                  8    46.4\n",
      "23         ITE00100550  18640209             TMAX                  9    48.2\n",
      "24         ITE00100550  18640122             TMAX                  9    48.2\n",
      "25         ITE00100550  18640101             TMAX                 10    50.0\n",
      "26         ITE00100550  18640202             TMAX                 11    51.8\n",
      "27         ITE00100550  18640108             TMAX                 13    55.4\n",
      "28         ITE00100550  18640109             TMAX                 13    55.4\n",
      "29         ITE00100550  18640201             TMAX                 13    55.4\n",
      "..                 ...       ...              ...                ...     ...\n",
      "336        ITE00100550  18640909             TMAX                299   570.2\n",
      "339        ITE00100550  18640706             TMAX                300   572.0\n",
      "337        ITE00100550  18640803             TMAX                300   572.0\n",
      "338        ITE00100550  18640623             TMAX                300   572.0\n",
      "340        ITE00100550  18640713             TMAX                303   577.4\n",
      "341        ITE00100550  18640717             TMAX                304   579.2\n",
      "342        ITE00100550  18640727             TMAX                306   582.8\n",
      "343        ITE00100550  18640718             TMAX                308   586.4\n",
      "344        ITE00100550  18640821             TMAX                309   588.2\n",
      "345        ITE00100550  18640624             TMAX                309   588.2\n",
      "346        ITE00100550  18640728             TMAX                310   590.0\n",
      "347        ITE00100550  18640716             TMAX                310   590.0\n",
      "348        ITE00100550  18640804             TMAX                310   590.0\n",
      "349        ITE00100550  18640807             TMAX                310   590.0\n",
      "350        ITE00100550  18640823             TMAX                313   595.4\n",
      "351        ITE00100550  18640730             TMAX                313   595.4\n",
      "352        ITE00100550  18640731             TMAX                313   595.4\n",
      "353        ITE00100550  18640622             TMAX                313   595.4\n",
      "354        ITE00100550  18640720             TMAX                315   599.0\n",
      "355        ITE00100550  18640723             TMAX                318   604.4\n",
      "356        ITE00100550  18640816             TMAX                319   606.2\n",
      "357        ITE00100550  18640810             TMAX                321   609.8\n",
      "358        ITE00100550  18640722             TMAX                321   609.8\n",
      "359        ITE00100550  18640721             TMAX                325   617.0\n",
      "360        ITE00100550  18640806             TMAX                331   627.8\n",
      "361        ITE00100550  18640805             TMAX                335   635.0\n",
      "362        ITE00100550  18640801             TMAX                335   635.0\n",
      "363        ITE00100550  18640808             TMAX                341   645.8\n",
      "364        ITE00100550  18640802             TMAX                346   654.8\n",
      "365        ITE00100550  18640809             TMAX                348   658.4\n",
      "\n",
      "[366 rows x 5 columns]\n",
      "0    18640117\n",
      "Name: data, dtype: int64\n",
      "365    18640809\n",
      "Name: data, dtype: int64\n"
     ]
    }
   ],
   "source": [
    "# [Answer to Ex. 4.1.6]\n",
    "# sorting data by maximum temperature.\n",
    "stat_ITE_max.sort_values(by='observation value', ascending=True, inplace=True)\n",
    "print(stat_ITE_max)\n",
    "\n",
    "# date for the first and last observations.\n",
    "print(stat_ITE_max.head(1)['data'])\n",
    "print(stat_ITE_max.tail(1)['data'])"
   ]
  },
  {
   "cell_type": "markdown",
   "metadata": {},
   "source": [
    "> **Ex 4.1.7:** CSV-files: save your DataFrame as a CSV file. what does index argument do?\n",
    "\n",
    "> Try to save the file using a relative path and an absolut path. \n",
    "With a relative you only specify the file name. This will save the file in the folder you are currently working in. With an absolute path, you specify the whole path, which allows you to save the file in a folder of your choice"
   ]
  },
  {
   "cell_type": "code",
   "execution_count": 44,
   "metadata": {},
   "outputs": [],
   "source": [
    "# [Answer to Ex. 4.1.7]\n",
    "# saving dataframe as csv file - relative and absolute path.\n",
    "\n",
    "# relative path\n",
    "stat_ITE_max.to_csv('Station_ITE_MAX_rel.csv', index=False) \n",
    "\n",
    "# absolute path\n",
    "stat_ITE_max.to_csv('C:/Users/Sarah/Documents/GitHub/sds2019/material/session_3/Station_ITE_MAX_abs.csv', index=False) "
   ]
  },
  {
   "cell_type": "markdown",
   "metadata": {},
   "source": [
    "> **(Bonus) Ex. 4.1.8**: A very compact way of writing code and making list in Python, is called list comprehensions. Depending on what you are doing, list can be more or less efficient that for example vectorized operations using NumPy. \n",
    "\n",
    ">Read about list comprehenseions online, and use it to make a list with the numbers from 0 to a million (10\\*\\*6), and add 3 to each element. Do the same doing NumPy, and time both methods. Which method is faster? \n",
    "\n",
    "> *Hint 1*: Use the `timeit` package for timing each method "
   ]
  },
  {
   "cell_type": "code",
   "execution_count": 2,
   "metadata": {},
   "outputs": [],
   "source": [
    "import timeit"
   ]
  },
  {
   "cell_type": "code",
   "execution_count": null,
   "metadata": {},
   "outputs": [],
   "source": [
    "# list comprehension\n",
    "# new_list=[n+3 for n in range(10**6)]\n",
    "\n",
    "\n",
    "#NO SPACE BEFORE THE %%TIMEIT FUNCTION"
   ]
  },
  {
   "cell_type": "code",
   "execution_count": 10,
   "metadata": {},
   "outputs": [
    {
     "name": "stdout",
     "output_type": "stream",
     "text": [
      "129 ms ± 1.59 ms per loop (mean ± std. dev. of 7 runs, 10 loops each)\n"
     ]
    }
   ],
   "source": [
    "%%timeit\n",
    "[i+3 for i in range(10**6)]"
   ]
  },
  {
   "cell_type": "code",
   "execution_count": 8,
   "metadata": {},
   "outputs": [
    {
     "name": "stdout",
     "output_type": "stream",
     "text": [
      "5.15 ms ± 159 µs per loop (mean ± std. dev. of 7 runs, 100 loops each)\n"
     ]
    }
   ],
   "source": [
    "%%timeit\n",
    "np.arange(10**6)+3"
   ]
  },
  {
   "cell_type": "code",
   "execution_count": null,
   "metadata": {},
   "outputs": [],
   "source": []
  }
 ],
 "metadata": {
  "kernelspec": {
   "display_name": "Python 3",
   "language": "python",
   "name": "python3"
  },
  "language_info": {
   "codemirror_mode": {
    "name": "ipython",
    "version": 3
   },
   "file_extension": ".py",
   "mimetype": "text/x-python",
   "name": "python",
   "nbconvert_exporter": "python",
   "pygments_lexer": "ipython3",
   "version": "3.7.3"
  }
 },
 "nbformat": 4,
 "nbformat_minor": 2
}
