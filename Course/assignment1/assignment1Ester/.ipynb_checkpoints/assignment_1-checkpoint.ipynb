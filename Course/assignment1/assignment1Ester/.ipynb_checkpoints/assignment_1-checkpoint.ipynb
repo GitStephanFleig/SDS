{
 "cells": [
  {
   "cell_type": "markdown",
   "metadata": {
    "deletable": false,
    "editable": false,
    "nbgrader": {
     "checksum": "52fdab5a075c0b5b2c392d9f3e890a9c",
     "grade": false,
     "grade_id": "cell-e81de4401376cd82",
     "locked": true,
     "schema_version": 1,
     "solution": false
    }
   },
   "source": [
    "# Mandatory Assignment 1\n",
    "\n",
    "This is the first of two mandatory assignments which must be completed during the course. First some practical information:\n",
    "\n",
    "* When is the assignment due?: **23:59, Sunday, August 19, 2018.**\n",
    "* How do you grade the assignment?: You will **peergrade** each other as primary grading. \n",
    "* Can i work with my group?: **yes**\n",
    "\n",
    "The assigment consist of one to tree problems from each of the exercise sets you have solved so far (excluding Set 1). We've tried to select problems which are self contained, but it might be nessecary to solve some of the previous exercises in each set to fully answer the problems in this assignment.\n",
    "\n",
    "## Problems from Exercise Set 2:\n",
    "\n",
    "> **Ex. 2.2**: Make two lists. The first should be numbered. The second should be unnumbered and contain at least one sublevel. "
   ]
  },
  {
   "cell_type": "markdown",
   "metadata": {},
   "source": [
    "# [Answer to Ex. 2.2 here] (convert to markdown cell)\n",
    "\n",
    "- Hej \n",
    "    - Hej \n",
    "\n",
    "\n",
    "1. Banan \n",
    "2. Æble "
   ]
  },
  {
   "cell_type": "markdown",
   "metadata": {
    "deletable": false,
    "editable": false,
    "nbgrader": {
     "checksum": "5dfa16d57d526109fffe155cea5147bc",
     "grade": false,
     "grade_id": "cell-075bc22ce52a4ffe",
     "locked": true,
     "schema_version": 1,
     "solution": false
    }
   },
   "source": [
    "## Problems from Exercise set 3:\n",
    "\n",
    "> **Ex. 3.1.3:** Let `l1 = ['r ', 'Is', '>', ' < ', 'g ', '?']`. Create from `l1` the sentence `\"Is r > g?\"` using your knowledge about string formatting. Store this new string in a variable called `answer_31`. Make sure there is only one space in between worlds.\n",
    ">\n",
    ">> _Hint:_ You should be able to combine the above informations to solve this exercise."
   ]
  },
  {
   "cell_type": "code",
   "execution_count": 26,
   "metadata": {
    "deletable": false,
    "nbgrader": {
     "checksum": "54f945a62727e4c9616a38b1d1f6673d",
     "grade": false,
     "grade_id": "problem_31",
     "locked": false,
     "schema_version": 1,
     "solution": true
    }
   },
   "outputs": [
    {
     "data": {
      "text/plain": [
       "['r', 'Is', '>', '<', 'g', '?']"
      ]
     },
     "execution_count": 26,
     "metadata": {},
     "output_type": "execute_result"
    }
   ],
   "source": [
    "# [Answer to Ex. 3.1.3 here]\n",
    "#l1 = ['r ', 'Is', '>', ' < ', 'g ', '?']\n",
    "\n",
    "\n",
    "\n",
    "# YOUR CODE HERE\n",
    "#raise NotImplementedError()"
   ]
  },
  {
   "cell_type": "code",
   "execution_count": 24,
   "metadata": {
    "deletable": false,
    "editable": false,
    "nbgrader": {
     "checksum": "99da4cf8dc98518963d95fb054131224",
     "grade": true,
     "grade_id": "problem_31_tests",
     "locked": true,
     "points": 1,
     "schema_version": 1,
     "solution": false
    }
   },
   "outputs": [
    {
     "ename": "AssertionError",
     "evalue": "",
     "output_type": "error",
     "traceback": [
      "\u001b[1;31m---------------------------------------------------------------------------\u001b[0m",
      "\u001b[1;31mAssertionError\u001b[0m                            Traceback (most recent call last)",
      "\u001b[1;32m<ipython-input-24-f71e9ccff75d>\u001b[0m in \u001b[0;36m<module>\u001b[1;34m()\u001b[0m\n\u001b[1;32m----> 1\u001b[1;33m \u001b[1;32massert\u001b[0m \u001b[0manswer_31\u001b[0m \u001b[1;33m==\u001b[0m \u001b[1;34m\"Is r > g?\"\u001b[0m\u001b[1;33m\u001b[0m\u001b[1;33m\u001b[0m\u001b[0m\n\u001b[0m",
      "\u001b[1;31mAssertionError\u001b[0m: "
     ]
    }
   ],
   "source": [
    "assert answer_31 == \"Is r > g?\""
   ]
  },
  {
   "cell_type": "markdown",
   "metadata": {
    "deletable": false,
    "editable": false,
    "nbgrader": {
     "checksum": "dc2c4cc2a1cdba681ed1006bba8f4619",
     "grade": false,
     "grade_id": "cell-1d737e504b202c4a",
     "locked": true,
     "schema_version": 1,
     "solution": false
    }
   },
   "source": [
    "> **Ex. 3.1.4**: Create an empty dictionary `words` using the `dict()`function. Then add each of the words in `['animal', 'coffee', 'python', 'unit', 'knowledge', 'tread', 'arise']` as a key, with the value being a boolean indicator for whether the word begins with a vowel. The results should look like `{'bacon': False, 'asynchronous': True ...}`. Store the result in a new variable called `answer_32`.\n",
    ">\n",
    ">> _Hint:_ You might want co first construct a function that asseses whether a given word begins with a vowel or not."
   ]
  },
  {
   "cell_type": "code",
   "execution_count": 12,
   "metadata": {
    "deletable": false,
    "nbgrader": {
     "checksum": "77bbae13d6cb074fac5b05890acaf4e6",
     "grade": false,
     "grade_id": "problem_32",
     "locked": false,
     "schema_version": 1,
     "solution": true
    }
   },
   "outputs": [
    {
     "name": "stdout",
     "output_type": "stream",
     "text": [
      "{'animal': True, 'coffee': False, 'python': False, 'unit': True, 'knowledge': False, 'tread': False, 'arise': True}\n"
     ]
    }
   ],
   "source": [
    "# [Answer to Ex. 3.1.4 here]\n",
    "W = ['animal', 'coffee', 'python', 'unit', 'knowledge', 'tread', 'arise']\n",
    "\n",
    "# answer_32 = \n",
    "\n",
    "def vowel(x):\n",
    "    if x[0] in 'aeiou':\n",
    "        return True\n",
    "    else:\n",
    "        return False\n",
    "\n",
    "wordlist = ['animal','coffee','python','unit','knowledge',\n",
    "        'tread','arise']\n",
    "vowels = []\n",
    "for i in wordlist:\n",
    "    vowels.append(vowel(i))\n",
    "zipped = zip(wordlist,vowels)\n",
    "words = dict(zipped)\n",
    "print(words)\n",
    "\n",
    "answer_32=words\n",
    "\n",
    "# YOUR CODE HERE\n",
    "#raise NotImplementedError()\n"
   ]
  },
  {
   "cell_type": "code",
   "execution_count": 13,
   "metadata": {
    "deletable": false,
    "editable": false,
    "nbgrader": {
     "checksum": "b9b444b7f9f76b5dc862d1aae155c794",
     "grade": true,
     "grade_id": "problem_32_tests",
     "locked": true,
     "points": 1,
     "schema_version": 1,
     "solution": false
    }
   },
   "outputs": [],
   "source": [
    "assert answer_32 == {i: i[0] in 'aeiou' for i in W}\n",
    "assert sorted(answer_32) == sorted(W)"
   ]
  },
  {
   "cell_type": "markdown",
   "metadata": {
    "deletable": false,
    "editable": false,
    "nbgrader": {
     "checksum": "29d96b09d12a59e80fc8cc796d836363",
     "grade": false,
     "grade_id": "cell-b4f75d07ccec62ef",
     "locked": true,
     "schema_version": 1,
     "solution": false
    }
   },
   "source": [
    "> **Ex. 3.3.2:** use the `requests` module (get it with `pip install requests`) and `construct_link()` which you defined in the previous question (ex 3.3.1) to request birth data from the \"FOD\" table. Get all available years (variable \"Tid\"), but only female births (BARNKON=P) . Unpack the json payload and store the result. Wrap the whole thing in a function which takes an url as input and returns the corresponding output.\n",
    ">\n",
    "> Store the birth data in a new variable called `answer_33`.\n",
    ">\n",
    ">> _Hint:_ The `requests.response` object has a `.json()` method. \n",
    ">\n",
    ">> _Note:_ you wrote `construct_link()` in 3.3.1, if you didn't heres the link you need to get: `https://api.statbank.dk/v1/data/FOLK1A/JSONSTAT?lang=en&Tid=*`"
   ]
  },
  {
   "cell_type": "code",
   "execution_count": null,
   "metadata": {
    "deletable": false,
    "nbgrader": {
     "checksum": "68d07574aa272d282cfabe0adbd40035",
     "grade": false,
     "grade_id": "problem_33",
     "locked": false,
     "schema_version": 1,
     "solution": true
    }
   },
   "outputs": [],
   "source": [
    "# [Answer to Ex. 3.3.2 here]\n",
    "\n",
    "WE DO NOT HAVE THE ANSWER FOR THIS ONE ! \n",
    "# answer_33 = \n",
    "\n",
    "# YOUR CODE HERE\n",
    "#raise NotImplementedError()"
   ]
  },
  {
   "cell_type": "code",
   "execution_count": null,
   "metadata": {
    "deletable": false,
    "editable": false,
    "nbgrader": {
     "checksum": "05a6f9bbf5fc1d972e3bdfb90bf7d8c0",
     "grade": true,
     "grade_id": "problem_33_tests",
     "locked": true,
     "points": 1,
     "schema_version": 1,
     "solution": false
    }
   },
   "outputs": [],
   "source": [
    "assert sorted(answer_33['dataset'].keys()) == ['dimension', 'label', 'source', 'updated', 'value']\n",
    "assert 'BARNKON' in answer_33['dataset']['dimension'].keys()"
   ]
  },
  {
   "cell_type": "markdown",
   "metadata": {
    "deletable": false,
    "editable": false,
    "nbgrader": {
     "checksum": "080f814e193a79742f10b565f49e667b",
     "grade": false,
     "grade_id": "cell-7738e4de11c9ba89",
     "locked": true,
     "schema_version": 1,
     "solution": false
    }
   },
   "source": [
    "## Problems from exercise set 4\n"
   ]
  },
  {
   "cell_type": "code",
   "execution_count": 27,
   "metadata": {
    "deletable": false,
    "editable": false,
    "nbgrader": {
     "checksum": "dc62d41fddcf5f9cc24531cbc8aeb995",
     "grade": false,
     "grade_id": "cell-6ce85387893ff77f",
     "locked": true,
     "schema_version": 1,
     "solution": false
    }
   },
   "outputs": [],
   "source": [
    "import numpy as np\n",
    "import pandas as pd"
   ]
  },
  {
   "cell_type": "markdown",
   "metadata": {
    "deletable": false,
    "editable": false,
    "nbgrader": {
     "checksum": "8f4eb9718da6000d04736de9af469001",
     "grade": false,
     "grade_id": "cell-0cf565ee06bf9606",
     "locked": true,
     "schema_version": 1,
     "solution": false
    }
   },
   "source": [
    "> **Ex. 4.1.1:** Use Pandas' CSV reader to fetch  daily data weather from 1864 for various stations - available [here](https://www1.ncdc.noaa.gov/pub/data/ghcn/daily/by_year/). Store the dataframe in a variable called `answer_41`.\n",
    ">\n",
    ">> *Hint 1*: for compressed files you may need to specify the keyword `compression`.\n",
    ">\n",
    ">> *Hint 2*: keyword `header` can be specified as the CSV has no column names.\n",
    ">\n",
    ">> *Hint 3*: Specify the path, as the URL linking directly to the 1864 file. "
   ]
  },
  {
   "cell_type": "code",
   "execution_count": 46,
   "metadata": {
    "deletable": false,
    "nbgrader": {
     "checksum": "c5b74ef23beb0bc773344af6e8e90809",
     "grade": false,
     "grade_id": "problem_41",
     "locked": false,
     "schema_version": 1,
     "solution": true
    }
   },
   "outputs": [
    {
     "data": {
      "text/plain": [
       "Int64Index([0, 1, 2, 3, 4, 5, 6, 7], dtype='int64')"
      ]
     },
     "execution_count": 46,
     "metadata": {},
     "output_type": "execute_result"
    }
   ],
   "source": [
    "# [Answer to Ex. 4.1.1 here]\n",
    "\n",
    "# answer_41 = \n",
    "\n",
    "# YOUR CODE HERE\n",
    "# raise NotImplementedError()\n",
    "\n",
    "url = 'https://www1.ncdc.noaa.gov/pub/data/ghcn/daily/by_year/1864.csv.gz'\n",
    "\n",
    "df_weather = pd.read_csv(url,\n",
    "                         compression='gzip',\n",
    "                         header=None).iloc[:,:8]\n",
    "\n",
    "#df_weather.columns = ['station', 'datetime', 'obs_type', 'obs_value']\n",
    "#df_weather['obs_value'] = df_weather['obs_value'] / 10\n",
    "#df_select = df_weather[(df_weather.station == 'ITE00100550') & (df_weather.obs_type == 'TMAX')].copy()\n",
    "#df_select['TMAX_F'] = 32 + 1.8 * df_select['obs_value']\n",
    "#df_sorted = df_select.reset_index(drop=True).sort_values(by=['obs_value'])\n",
    "\n",
    "df_weather.head()\n",
    "\n",
    "answer_41=df_weather\n",
    "answer_41.shape\n",
    "answer_41.columns\n"
   ]
  },
  {
   "cell_type": "code",
   "execution_count": 47,
   "metadata": {
    "deletable": false,
    "editable": false,
    "nbgrader": {
     "checksum": "238d18588151c3bdb43bce91f5f5c908",
     "grade": true,
     "grade_id": "problem_41_tests",
     "locked": true,
     "points": 1,
     "schema_version": 1,
     "solution": false
    }
   },
   "outputs": [],
   "source": [
    "assert answer_41.shape == (27349, 8)\n",
    "assert list(answer_41.columns) == list(range(8))"
   ]
  },
  {
   "cell_type": "markdown",
   "metadata": {
    "deletable": false,
    "editable": false,
    "nbgrader": {
     "checksum": "2c9865188a9e267f6ae311090805d3c6",
     "grade": false,
     "grade_id": "cell-fef3fd772e3b2e19",
     "locked": true,
     "schema_version": 1,
     "solution": false
    }
   },
   "source": [
    "> **Ex. 4.1.2:** Structure your weather DataFrame by using only the relevant columns (station identifier, data, observation type, observation value), rename them. Make sure observations are correctly formated (how many decimals should we add? one?).\n",
    ">\n",
    "> Store the resulting dataframe in a new variable called `answer_42`.\n",
    ">\n",
    ">> *Hint:* rename can be done with `df.columns=COLS` where `COLS` is a list of column names."
   ]
  },
  {
   "cell_type": "code",
   "execution_count": 65,
   "metadata": {
    "deletable": false,
    "nbgrader": {
     "checksum": "f8b0be8cbe49efa6f85b2a318effdf31",
     "grade": false,
     "grade_id": "problem_42",
     "locked": false,
     "schema_version": 1,
     "solution": true
    }
   },
   "outputs": [
    {
     "data": {
      "text/plain": [
       "(27349, 4)"
      ]
     },
     "execution_count": 65,
     "metadata": {},
     "output_type": "execute_result"
    }
   ],
   "source": [
    "# [Answer to Ex. 4.1.2 here]\n",
    "\n",
    "# answer_42 = \n",
    "\n",
    "# YOUR CODE HERE\n",
    "#raise NotImplementedError()\n",
    "\n",
    "url = 'https://www1.ncdc.noaa.gov/pub/data/ghcn/daily/by_year/1864.csv.gz'\n",
    "\n",
    "df_weather = pd.read_csv(url,\n",
    "                         compression='gzip',\n",
    "                         header=None).iloc[:,:4]\n",
    "\n",
    "df_weather.columns = ['station', 'datetime', 'obs_type', 'obs_value']\n",
    "df_weather['obs_value'] = df_weather['obs_value'] / 10\n",
    "#df_select = df_weather[(df_weather.station == 'ITE00100550') & (df_weather.obs_type == 'TMAX')].copy()\n",
    "#df_select['TMAX_F'] = 32 + 1.8 * df_select['obs_value']\n",
    "#df_sorted = df_select.reset_index(drop=True).sort_values(by=['obs_value'])\n",
    "\n",
    "\n",
    "answer_42=df_weather\n",
    "\n",
    "answer_42.shape\n",
    "\n"
   ]
  },
  {
   "cell_type": "code",
   "execution_count": 66,
   "metadata": {
    "deletable": false,
    "editable": false,
    "nbgrader": {
     "checksum": "5559217edb771ff89b82031f801c8eee",
     "grade": true,
     "grade_id": "problem_42_tests",
     "locked": true,
     "points": 1,
     "schema_version": 1,
     "solution": false
    }
   },
   "outputs": [],
   "source": [
    "assert answer_42.shape == (27349, 4)\n",
    "assert 144.8 in [answer_42[i].max() for i in answer_42]\n",
    "assert -666.0 in [answer_42[i].min() for i in answer_42]\n",
    "assert 18640101 in [answer_42[i].min() for i in answer_42]"
   ]
  },
  {
   "cell_type": "markdown",
   "metadata": {
    "deletable": false,
    "editable": false,
    "nbgrader": {
     "checksum": "003c5b1c802d4d1556083d23611093ad",
     "grade": false,
     "grade_id": "cell-323f47f2db7307c1",
     "locked": true,
     "schema_version": 1,
     "solution": false
    }
   },
   "source": [
    "> **Ex. 4.1.3:**  Select data for the station `ITE00100550` and only observations for maximal temperature. Make a copy of the DataFrame. Explain in a one or two sentences how copying works.\n",
    ">\n",
    "> Store the subsetted dataframe in a new variable called `answer_43`.\n",
    ">\n",
    ">> *Hint 1*: the `&` operator works elementwise on boolean series (like `and` in core python).\n",
    ">\n",
    ">> *Hint 2*: copying of the dataframe is done with the `copy` method for DataFrames."
   ]
  },
  {
   "cell_type": "code",
   "execution_count": 67,
   "metadata": {
    "deletable": false,
    "nbgrader": {
     "checksum": "35bba693b17ba982b78783c2e510c1be",
     "grade": false,
     "grade_id": "problem_43",
     "locked": false,
     "schema_version": 1,
     "solution": true
    }
   },
   "outputs": [
    {
     "ename": "NameError",
     "evalue": "name 'data' is not defined",
     "output_type": "error",
     "traceback": [
      "\u001b[1;31m---------------------------------------------------------------------------\u001b[0m",
      "\u001b[1;31mNameError\u001b[0m                                 Traceback (most recent call last)",
      "\u001b[1;32m<ipython-input-67-96961873a9a2>\u001b[0m in \u001b[0;36m<module>\u001b[1;34m()\u001b[0m\n\u001b[0;32m      8\u001b[0m \u001b[1;33m\u001b[0m\u001b[0m\n\u001b[0;32m      9\u001b[0m \u001b[1;33m\u001b[0m\u001b[0m\n\u001b[1;32m---> 10\u001b[1;33m \u001b[0manswer_43\u001b[0m \u001b[1;33m=\u001b[0m  \u001b[0mdata\u001b[0m\u001b[1;33m.\u001b[0m\u001b[0mloc\u001b[0m\u001b[1;33m[\u001b[0m\u001b[1;33m(\u001b[0m\u001b[0mdata\u001b[0m\u001b[1;33m[\u001b[0m\u001b[1;34m'station'\u001b[0m\u001b[1;33m]\u001b[0m\u001b[1;33m==\u001b[0m\u001b[1;34m'ITE00100550'\u001b[0m\u001b[1;33m)\u001b[0m \u001b[1;33m&\u001b[0m \u001b[1;33m(\u001b[0m\u001b[0mdata\u001b[0m\u001b[1;33m[\u001b[0m\u001b[1;34m'type'\u001b[0m\u001b[1;33m]\u001b[0m\u001b[1;33m==\u001b[0m\u001b[1;34m'TMAX'\u001b[0m\u001b[1;33m)\u001b[0m\u001b[1;33m]\u001b[0m\u001b[1;33m.\u001b[0m\u001b[0mcopy\u001b[0m\u001b[1;33m(\u001b[0m\u001b[1;33m)\u001b[0m\u001b[1;33m\u001b[0m\u001b[1;33m\u001b[0m\u001b[0m\n\u001b[0m\u001b[0;32m     11\u001b[0m \u001b[0manswer_43\u001b[0m\u001b[1;33m.\u001b[0m\u001b[0mgroupby\u001b[0m\u001b[1;33m(\u001b[0m\u001b[1;34m\"month\"\u001b[0m\u001b[1;33m)\u001b[0m\u001b[1;33m[\u001b[0m\u001b[1;34m\"temp\"\u001b[0m\u001b[1;33m]\u001b[0m\u001b[1;33m.\u001b[0m\u001b[0mdescribe\u001b[0m\u001b[1;33m(\u001b[0m\u001b[1;33m)\u001b[0m\u001b[1;33m.\u001b[0m\u001b[0mplot\u001b[0m\u001b[1;33m(\u001b[0m\u001b[0my\u001b[0m\u001b[1;33m=\u001b[0m\u001b[1;33m[\u001b[0m\u001b[1;34m\"25%\"\u001b[0m\u001b[1;33m,\u001b[0m \u001b[1;34m\"75%\"\u001b[0m\u001b[1;33m,\u001b[0m \u001b[1;34m\"min\"\u001b[0m\u001b[1;33m,\u001b[0m \u001b[1;34m\"mean\"\u001b[0m\u001b[1;33m,\u001b[0m \u001b[1;34m\"max\"\u001b[0m\u001b[1;33m]\u001b[0m\u001b[1;33m)\u001b[0m\u001b[1;33m\u001b[0m\u001b[1;33m\u001b[0m\u001b[0m\n",
      "\u001b[1;31mNameError\u001b[0m: name 'data' is not defined"
     ]
    }
   ],
   "source": [
    "# [Answer to Ex. 4.1.3 here]\n",
    "\n",
    "# answer_43 = \n",
    "\n",
    "\n",
    "# YOUR CODE HERE\n",
    "#raise NotImplementedError()\n",
    "\n",
    "\n",
    "answer_43 =  data.loc[(data['station']=='ITE00100550') & (data['type']=='TMAX')].copy()\n",
    "answer_43.groupby(\"month\")[\"temp\"].describe().plot(y=[\"25%\", \"75%\", \"min\", \"mean\", \"max\"])"
   ]
  },
  {
   "cell_type": "code",
   "execution_count": null,
   "metadata": {
    "deletable": false,
    "editable": false,
    "nbgrader": {
     "checksum": "db7520577f35003b0ce18b42f0d6bd2e",
     "grade": true,
     "grade_id": "problem_43_tests",
     "locked": true,
     "points": 1,
     "schema_version": 1,
     "solution": false
    }
   },
   "outputs": [],
   "source": [
    "assert 'ITE00100550' in [answer_43[i].min() for i in answer_43]\n",
    "assert 'ITE00100550' in [answer_43[i].max() for i in answer_43]\n",
    "assert 'TMAX' in [answer_43[i].min() for i in answer_43]\n",
    "assert 'TMAX' in [answer_43[i].max() for i in answer_43]"
   ]
  },
  {
   "cell_type": "markdown",
   "metadata": {
    "deletable": false,
    "editable": false,
    "nbgrader": {
     "checksum": "40769f7d8f4a1b396187443bc14517d9",
     "grade": false,
     "grade_id": "cell-d6100b901a5d4ba8",
     "locked": true,
     "schema_version": 1,
     "solution": false
    }
   },
   "source": [
    "> **Ex. 4.1.4:** Make a new column in `answer_44` called `TMAX_F` where you have converted the temperature variables to Fahrenheit. Make sure not to overwrite `answer_43`.\n",
    ">\n",
    "> Store the resulting dataframe in a variable called `answer_44`.\n",
    ">\n",
    ">> *Hint*: Conversion is $F = 32 + 1.8*C$ where $F$ is Fahrenheit and $C$ is Celsius."
   ]
  },
  {
   "cell_type": "code",
   "execution_count": null,
   "metadata": {
    "deletable": false,
    "nbgrader": {
     "checksum": "e88dde4ccdbddb981100b636b0d1d448",
     "grade": false,
     "grade_id": "problem_44",
     "locked": false,
     "schema_version": 1,
     "solution": true
    }
   },
   "outputs": [],
   "source": [
    "# [Answer to Ex. 4.1.4 here]\n",
    "answer_44 = answer_43.copy()\n",
    "# answer_44 = \n",
    "\n",
    "# YOUR CODE HERE\n",
    "raise NotImplementedError()"
   ]
  },
  {
   "cell_type": "code",
   "execution_count": null,
   "metadata": {
    "deletable": false,
    "editable": false,
    "nbgrader": {
     "checksum": "cb8fb435c837f57fc91f5d55df8709c7",
     "grade": true,
     "grade_id": "problem_44_tests",
     "locked": true,
     "points": 1,
     "schema_version": 1,
     "solution": false
    }
   },
   "outputs": [],
   "source": [
    "assert set(answer_44.columns) -  set(answer_43.columns) == {'TMAX_F'}"
   ]
  },
  {
   "cell_type": "markdown",
   "metadata": {
    "deletable": false,
    "editable": false,
    "nbgrader": {
     "checksum": "7abe66bdec5e0922773485287403a31f",
     "grade": false,
     "grade_id": "cell-69a5ddb907fc34bc",
     "locked": true,
     "schema_version": 1,
     "solution": false
    }
   },
   "source": [
    "## Problems from exercise set 5"
   ]
  },
  {
   "cell_type": "code",
   "execution_count": 48,
   "metadata": {
    "deletable": false,
    "editable": false,
    "nbgrader": {
     "checksum": "3ec8e5eab14daeb68b706c206bce27a4",
     "grade": false,
     "grade_id": "cell-dc072f65e62126e4",
     "locked": true,
     "schema_version": 1,
     "solution": false
    }
   },
   "outputs": [],
   "source": [
    "import matplotlib.pyplot as plt\n",
    "import numpy as np \n",
    "import pandas as pd\n",
    "import seaborn as sns \n",
    "\n",
    "%matplotlib inline \n",
    "\n",
    "iris = sns.load_dataset('iris')\n",
    "titanic = sns.load_dataset('titanic')"
   ]
  },
  {
   "cell_type": "markdown",
   "metadata": {
    "deletable": false,
    "editable": false,
    "nbgrader": {
     "checksum": "44db0d95253cc709f8289a00c40bd014",
     "grade": false,
     "grade_id": "cell-ef0604c76e360580",
     "locked": true,
     "schema_version": 1,
     "solution": false
    }
   },
   "source": [
    "> **Ex. 5.1.1:**: Show the first five rows of the titanic dataset. What information is in the dataset? Use a barplot to show the probability of survival for men and women within each passenger class. Can you make a boxplot showing the same information (why/why not?). _Bonus:_ show a boxplot for the fare-prices within each passenger class. \n",
    ">\n",
    "> Spend five minutes discussing what you can learn about the survival-selection aboard titanic from the figure(s).\n",
    ">\n",
    "> > _Hint:_ https://seaborn.pydata.org/generated/seaborn.barplot.html, specifically the `hue` option.\n"
   ]
  },
  {
   "cell_type": "code",
   "execution_count": 81,
   "metadata": {
    "deletable": false,
    "nbgrader": {
     "checksum": "18ef2e9eff41ceb6b26fb588206b684f",
     "grade": true,
     "grade_id": "problem_51",
     "locked": false,
     "points": 1,
     "schema_version": 1,
     "solution": true
    }
   },
   "outputs": [
    {
     "name": "stdout",
     "output_type": "stream",
     "text": [
      "   survived  pclass     sex   age  sibsp  parch     fare embarked  class  \\\n",
      "0         0       3    male  22.0      1      0   7.2500        S  Third   \n",
      "1         1       1  female  38.0      1      0  71.2833        C  First   \n",
      "2         1       3  female  26.0      0      0   7.9250        S  Third   \n",
      "3         1       1  female  35.0      1      0  53.1000        S  First   \n",
      "4         0       3    male  35.0      0      0   8.0500        S  Third   \n",
      "\n",
      "     who  adult_male deck  embark_town alive  alone  \n",
      "0    man        True  NaN  Southampton    no  False  \n",
      "1  woman       False    C    Cherbourg   yes  False  \n",
      "2  woman       False  NaN  Southampton   yes   True  \n",
      "3  woman       False    C  Southampton   yes  False  \n",
      "4    man        True  NaN  Southampton    no   True  \n"
     ]
    },
    {
     "data": {
      "image/png": "[encoded data removed]",
      "text/plain": [
       "<Figure size 432x288 with 1 Axes>"
      ]
     },
     "metadata": {
      "needs_background": "light"
     },
     "output_type": "display_data"
    }
   ],
   "source": [
    "# [Answer to Ex. 5.1.1 here]\n",
    "\n",
    "# YOUR CODE HERE\n",
    "#raise NotImplementedError()\n",
    "\n",
    "import seaborn as sns \n",
    "titanic =sns.load_dataset('titanic')\n",
    "print(titanic.loc[range(5)])\n",
    "\n",
    "f=sns.barplot(x='pclass', y='survived', hue='sex', data=titanic)\n",
    "\n",
    "#Writing a boxplot doe not give the same information. For this "
   ]
  },
  {
   "cell_type": "markdown",
   "metadata": {
    "deletable": false,
    "editable": false,
    "nbgrader": {
     "checksum": "fc466900f77bd9400665fc24523ba7d7",
     "grade": false,
     "grade_id": "cell-8d78955bde3112ba",
     "locked": true,
     "schema_version": 1,
     "solution": false
    }
   },
   "source": [
    "> **Ex. 5.1.2:** Using the iris flower dataset, draw a scatterplot of sepal length and petal length. Include a second order polynomial fitted to the data. Add a title to the plot and rename the axis labels.\n",
    "> _Discuss:_ Is this a meaningful way to display the data? What could we do differently?\n",
    ">\n",
    "> For a better understanding of the dataset this image might be useful:\n",
    "> <img src=\"iris_pic.png\" alt=\"Drawing\" style=\"width: 200px;\"/>\n",
    ">\n",
    ">> _Hint:_ use the `.regplot` method from seaborn. "
   ]
  },
  {
   "cell_type": "code",
   "execution_count": 100,
   "metadata": {
    "deletable": false,
    "nbgrader": {
     "checksum": "cdb3b79fb6852431c37310696e841913",
     "grade": true,
     "grade_id": "cell-8631e73e3796008b",
     "locked": false,
     "points": 1,
     "schema_version": 1,
     "solution": true
    }
   },
   "outputs": [
    {
     "name": "stdout",
     "output_type": "stream",
     "text": [
      "    sepal_length  sepal_width  petal_length  petal_width     species\n",
      "0            5.1          3.5           1.4          0.2      setosa\n",
      "1            4.9          3.0           1.4          0.2      setosa\n",
      "2            4.7          3.2           1.3          0.2      setosa\n",
      "3            4.6          3.1           1.5          0.2      setosa\n",
      "4            5.0          3.6           1.4          0.2      setosa\n",
      "5            5.4          3.9           1.7          0.4      setosa\n",
      "6            4.6          3.4           1.4          0.3      setosa\n",
      "7            5.0          3.4           1.5          0.2      setosa\n",
      "8            4.4          2.9           1.4          0.2      setosa\n",
      "9            4.9          3.1           1.5          0.1      setosa\n",
      "10           5.4          3.7           1.5          0.2      setosa\n",
      "11           4.8          3.4           1.6          0.2      setosa\n",
      "12           4.8          3.0           1.4          0.1      setosa\n",
      "13           4.3          3.0           1.1          0.1      setosa\n",
      "14           5.8          4.0           1.2          0.2      setosa\n",
      "15           5.7          4.4           1.5          0.4      setosa\n",
      "16           5.4          3.9           1.3          0.4      setosa\n",
      "17           5.1          3.5           1.4          0.3      setosa\n",
      "18           5.7          3.8           1.7          0.3      setosa\n",
      "19           5.1          3.8           1.5          0.3      setosa\n",
      "20           5.4          3.4           1.7          0.2      setosa\n",
      "21           5.1          3.7           1.5          0.4      setosa\n",
      "22           4.6          3.6           1.0          0.2      setosa\n",
      "23           5.1          3.3           1.7          0.5      setosa\n",
      "24           4.8          3.4           1.9          0.2      setosa\n",
      "25           5.0          3.0           1.6          0.2      setosa\n",
      "26           5.0          3.4           1.6          0.4      setosa\n",
      "27           5.2          3.5           1.5          0.2      setosa\n",
      "28           5.2          3.4           1.4          0.2      setosa\n",
      "29           4.7          3.2           1.6          0.2      setosa\n",
      "..           ...          ...           ...          ...         ...\n",
      "70           5.9          3.2           4.8          1.8  versicolor\n",
      "71           6.1          2.8           4.0          1.3  versicolor\n",
      "72           6.3          2.5           4.9          1.5  versicolor\n",
      "73           6.1          2.8           4.7          1.2  versicolor\n",
      "74           6.4          2.9           4.3          1.3  versicolor\n",
      "75           6.6          3.0           4.4          1.4  versicolor\n",
      "76           6.8          2.8           4.8          1.4  versicolor\n",
      "77           6.7          3.0           5.0          1.7  versicolor\n",
      "78           6.0          2.9           4.5          1.5  versicolor\n",
      "79           5.7          2.6           3.5          1.0  versicolor\n",
      "80           5.5          2.4           3.8          1.1  versicolor\n",
      "81           5.5          2.4           3.7          1.0  versicolor\n",
      "82           5.8          2.7           3.9          1.2  versicolor\n",
      "83           6.0          2.7           5.1          1.6  versicolor\n",
      "84           5.4          3.0           4.5          1.5  versicolor\n",
      "85           6.0          3.4           4.5          1.6  versicolor\n",
      "86           6.7          3.1           4.7          1.5  versicolor\n",
      "87           6.3          2.3           4.4          1.3  versicolor\n",
      "88           5.6          3.0           4.1          1.3  versicolor\n",
      "89           5.5          2.5           4.0          1.3  versicolor\n",
      "90           5.5          2.6           4.4          1.2  versicolor\n",
      "91           6.1          3.0           4.6          1.4  versicolor\n",
      "92           5.8          2.6           4.0          1.2  versicolor\n",
      "93           5.0          2.3           3.3          1.0  versicolor\n",
      "94           5.6          2.7           4.2          1.3  versicolor\n",
      "95           5.7          3.0           4.2          1.2  versicolor\n",
      "96           5.7          2.9           4.2          1.3  versicolor\n",
      "97           6.2          2.9           4.3          1.3  versicolor\n",
      "98           5.1          2.5           3.0          1.1  versicolor\n",
      "99           5.7          2.8           4.1          1.3  versicolor\n",
      "\n",
      "[100 rows x 5 columns]\n"
     ]
    },
    {
     "data": {
      "text/plain": [
       "Text(0, 0.5, 'Sepal length')"
      ]
     },
     "execution_count": 100,
     "metadata": {},
     "output_type": "execute_result"
    },
    {
     "data": {
      "image/png": "[encoded data removed]",
      "text/plain": [
       "<Figure size 432x288 with 1 Axes>"
      ]
     },
     "metadata": {
      "needs_background": "light"
     },
     "output_type": "display_data"
    }
   ],
   "source": [
    "# [Answer to Ex. 5.1.2 here]\n",
    "import seaborn as sns \n",
    "iris =sns.load_dataset('iris')\n",
    "print(iris.loc[range(100)])\n",
    "sns.regplot(x=iris['petal_length'],y=iris['sepal_length'], order=2).set_title('Iris')\n",
    "plt.xlabel('Petal lenght')\n",
    "plt.ylabel('Sepal length')\n",
    "\n",
    "# YOUR CODE HERE\n",
    "#raise NotImplementedError()"
   ]
  },
  {
   "cell_type": "markdown",
   "metadata": {
    "deletable": false,
    "editable": false,
    "nbgrader": {
     "checksum": "f6955bf905fc3c63c64ac4420d11d1f6",
     "grade": false,
     "grade_id": "cell-95796f67165019ab",
     "locked": true,
     "schema_version": 1,
     "solution": false
    }
   },
   "source": [
    "> **Ex. 5.1.3:** Combine the two of the figures you created above into a two-panel figure similar to the one shown here:\n",
    "> <img src=\"Example.png\" alt=\"Drawing\" style=\"width: 600px;\"/>\n",
    ">\n",
    "> Save the figure as a png file on your computer. \n",
    ">> _Hint:_ See [this question](https://stackoverflow.com/questions/41384040/subplot-for-seaborn-boxplot) on stackoverflow for inspiration."
   ]
  },
  {
   "cell_type": "code",
   "execution_count": 92,
   "metadata": {
    "deletable": false,
    "nbgrader": {
     "checksum": "5552793303f021420e75daf3f7caa237",
     "grade": true,
     "grade_id": "cell-686e1fcbc475435a",
     "locked": false,
     "points": 1,
     "schema_version": 1,
     "solution": true
    }
   },
   "outputs": [
    {
     "data": {
      "image/png": "[encoded data removed]",
      "text/plain": [
       "<Figure size 720x360 with 2 Axes>"
      ]
     },
     "metadata": {
      "needs_background": "light"
     },
     "output_type": "display_data"
    }
   ],
   "source": [
    "# [Answer to Ex. 5.1.3 here]\n",
    "\n",
    "# YOUR CODE HERE\n",
    "#raise NotImplementedError()\n",
    "fig, axes =plt.subplots(1,2, figsize=(10,5))\n",
    "\n",
    "#sns.regplot(x=iris['sepal_length'],y=iris['petal_length'], order=2, ax=axes[0]).set_title('Iris')\n",
    "sns.regplot(x=iris['petal_length'],y=iris['sepal_length'], order=2, ax=axes[0]).set_title('Iris')\n",
    "sns.barplot(x='pclass', y='survived', hue='sex', data=titanic, ax=axes[1]).set_title('Titianic')\n",
    "plt.tight_layout()\n",
    "axes[1].set_ylim([0,1])\n",
    "fig.savefig('plotE.png')\n",
    "\n"
   ]
  },
  {
   "cell_type": "markdown",
   "metadata": {
    "deletable": false,
    "editable": false,
    "nbgrader": {
     "checksum": "d4010a7acb4875fd0440dbc6057bb84a",
     "grade": false,
     "grade_id": "cell-e280df998b60ae2f",
     "locked": true,
     "schema_version": 1,
     "solution": false
    }
   },
   "source": [
    "> **Ex. 5.1.4:** Use [pairplot with hue](https://seaborn.pydata.org/generated/seaborn.pairplot.html) to create a figure that clearly shows how the different species vary across measurements. Change the color palette and remove the shading from the density plots. _Bonus:_ Try to explain how the `diag_kws` argument works (_hint:_ [read here](https://stackoverflow.com/questions/1769403/understanding-kwargs-in-python))"
   ]
  },
  {
   "cell_type": "code",
   "execution_count": 93,
   "metadata": {
    "deletable": false,
    "nbgrader": {
     "checksum": "492a7bf33f9d310739162fae57556a1f",
     "grade": true,
     "grade_id": "cell-0f5793c056a02040",
     "locked": false,
     "points": 1,
     "schema_version": 1,
     "solution": true
    }
   },
   "outputs": [
    {
     "data": {
      "image/png": "[encoded data removed]",
      "text/plain": [
       "<Figure size 1037.75x920 with 20 Axes>"
      ]
     },
     "metadata": {},
     "output_type": "display_data"
    }
   ],
   "source": [
    "# [Answer to Ex. 5.1.4 here]\n",
    "\n",
    "# YOUR CODE HERE\n",
    "# raise NotImplementedError()\n",
    "\n",
    "plt.style.use('default')\n",
    "sns.set_palette(\"pastel\")\n",
    "f=sns.pairplot(iris, height=2.3, hue='species', diag_kws=dict(shade=False))"
   ]
  },
  {
   "cell_type": "markdown",
   "metadata": {
    "deletable": false,
    "editable": false,
    "nbgrader": {
     "checksum": "50981ef2a4bf0b5c3c2c69baea6a7685",
     "grade": false,
     "grade_id": "cell-ee43396c59c5301f",
     "locked": true,
     "schema_version": 1,
     "solution": false
    }
   },
   "source": [
    "## Problems from exercise set 6\n",
    "\n",
    "> _Note:_ In the exercises we asked you to download weather data from the NOAA website. For this assignment the data are loaded in the following code cell into two pandas dataframes."
   ]
  },
  {
   "cell_type": "code",
   "execution_count": 116,
   "metadata": {
    "deletable": false,
    "editable": false,
    "nbgrader": {
     "checksum": "06644b5719b20405b4baee66e20fe061",
     "grade": false,
     "grade_id": "cell-834b03b8b15b0307",
     "locked": true,
     "schema_version": 1,
     "solution": false
    }
   },
   "outputs": [],
   "source": [
    "%matplotlib inline\n",
    "import pandas as pd\n",
    "import matplotlib.pyplot as plt\n",
    "\n",
    "weather_1864 = pd.read_csv('weather_data_1864.csv')"
   ]
  },
  {
   "cell_type": "markdown",
   "metadata": {
    "deletable": false,
    "editable": false,
    "nbgrader": {
     "checksum": "b31c95426614b2adb9069483b538734e",
     "grade": false,
     "grade_id": "cell-3b947e0bc3564fc0",
     "locked": true,
     "schema_version": 1,
     "solution": false
    }
   },
   "source": [
    "> **Ex. 6.1.4:** Extract the country code from the station name into a separate column.\n",
    ">\n",
    "> Create a new column in `weather_1864` called `answer_61` and store the country codes here.\n",
    ">\n",
    ">> _Hint:_ The station column contains a GHCND ID, given to each weather station by NOAA. The format of these ID's is a 2-3 letter country code, followed by a integer identifying the specific station. A simple approach is to assume a fixed length of the country ID. A more complex way would be to use the [`re`](https://docs.python.org/2/library/re.html) module."
   ]
  },
  {
   "cell_type": "code",
   "execution_count": 117,
   "metadata": {
    "deletable": false,
    "nbgrader": {
     "checksum": "449adcf52422faf0dec2cd826ff87d2a",
     "grade": false,
     "grade_id": "problem_61",
     "locked": false,
     "schema_version": 1,
     "solution": true
    }
   },
   "outputs": [
    {
     "data": {
      "text/html": [
       "<div>\n",
       "<style scoped>\n",
       "    .dataframe tbody tr th:only-of-type {\n",
       "        vertical-align: middle;\n",
       "    }\n",
       "\n",
       "    .dataframe tbody tr th {\n",
       "        vertical-align: top;\n",
       "    }\n",
       "\n",
       "    .dataframe thead th {\n",
       "        text-align: right;\n",
       "    }\n",
       "</style>\n",
       "<table border=\"1\" class=\"dataframe\">\n",
       "  <thead>\n",
       "    <tr style=\"text-align: right;\">\n",
       "      <th></th>\n",
       "      <th>station</th>\n",
       "      <th>datetime</th>\n",
       "      <th>obs_type</th>\n",
       "      <th>obs_value</th>\n",
       "      <th>TMAX_F</th>\n",
       "      <th>datetime_dt</th>\n",
       "      <th>answer_61</th>\n",
       "    </tr>\n",
       "  </thead>\n",
       "  <tbody>\n",
       "    <tr>\n",
       "      <th>0</th>\n",
       "      <td>SZ000006717</td>\n",
       "      <td>18640226</td>\n",
       "      <td>TMAX</td>\n",
       "      <td>-34.0</td>\n",
       "      <td>-29.20</td>\n",
       "      <td>1864-02-26</td>\n",
       "      <td>SZ0</td>\n",
       "    </tr>\n",
       "    <tr>\n",
       "      <th>1</th>\n",
       "      <td>SZ000006717</td>\n",
       "      <td>18640208</td>\n",
       "      <td>TMAX</td>\n",
       "      <td>-17.4</td>\n",
       "      <td>0.68</td>\n",
       "      <td>1864-02-08</td>\n",
       "      <td>SZ0</td>\n",
       "    </tr>\n",
       "    <tr>\n",
       "      <th>2</th>\n",
       "      <td>CA006158350</td>\n",
       "      <td>18640217</td>\n",
       "      <td>TMAX</td>\n",
       "      <td>-16.7</td>\n",
       "      <td>1.94</td>\n",
       "      <td>1864-02-17</td>\n",
       "      <td>CA0</td>\n",
       "    </tr>\n",
       "    <tr>\n",
       "      <th>3</th>\n",
       "      <td>SZ000006717</td>\n",
       "      <td>18640103</td>\n",
       "      <td>TMAX</td>\n",
       "      <td>-16.5</td>\n",
       "      <td>2.30</td>\n",
       "      <td>1864-01-03</td>\n",
       "      <td>SZ0</td>\n",
       "    </tr>\n",
       "    <tr>\n",
       "      <th>4</th>\n",
       "      <td>CA006158350</td>\n",
       "      <td>18640102</td>\n",
       "      <td>TMAX</td>\n",
       "      <td>-16.1</td>\n",
       "      <td>3.02</td>\n",
       "      <td>1864-01-02</td>\n",
       "      <td>CA0</td>\n",
       "    </tr>\n",
       "  </tbody>\n",
       "</table>\n",
       "</div>"
      ],
      "text/plain": [
       "       station  datetime obs_type  obs_value  TMAX_F datetime_dt answer_61\n",
       "0  SZ000006717  18640226     TMAX      -34.0  -29.20  1864-02-26       SZ0\n",
       "1  SZ000006717  18640208     TMAX      -17.4    0.68  1864-02-08       SZ0\n",
       "2  CA006158350  18640217     TMAX      -16.7    1.94  1864-02-17       CA0\n",
       "3  SZ000006717  18640103     TMAX      -16.5    2.30  1864-01-03       SZ0\n",
       "4  CA006158350  18640102     TMAX      -16.1    3.02  1864-01-02       CA0"
      ]
     },
     "execution_count": 117,
     "metadata": {},
     "output_type": "execute_result"
    }
   ],
   "source": [
    "# [Answer to Ex. 6.1.4]\n",
    "\n",
    "# YOUR CODE HERE\n",
    "#raise NotImplementedError()\n",
    "\n",
    "#weather_1864.columns = ['station', 'datetime', 'obs_type', 'obs_value']\n",
    "#weather_1864['obs_value'] = weather_1864['obs_value'] / 10\n",
    "#df_select = df_weather[(df_weather.station == 'ITE00100550') & (df_weather.obs_type == 'TMAX')].copy()\n",
    "#df_select['TMAX_F'] = 32 + 1.8 * df_select['obs_value']\n",
    "#weather_1864 = df_select.reset_index(drop=True).sort_values(by=['obs_value'])\n",
    "\n",
    "\n",
    "weather_1864['answer_61'] = weather_1864['station']\n",
    "weather_1864['answer_61']=weather_1864['answer_61'].str[0:3]\n",
    "weather_1864.head()\n"
   ]
  },
  {
   "cell_type": "code",
   "execution_count": 118,
   "metadata": {
    "deletable": false,
    "editable": false,
    "nbgrader": {
     "checksum": "149a5ad93fbe65bcda27008f62ebc94a",
     "grade": true,
     "grade_id": "problem_61_tests",
     "locked": true,
     "points": 1,
     "schema_version": 1,
     "solution": false
    }
   },
   "outputs": [],
   "source": [
    "assert sorted(weather_1864['answer_61'].str[:2].unique()) == sorted(['SZ', 'CA', 'EZ', 'GM', 'AU', 'IT', 'BE', 'UK', 'EI', 'AG', 'AS'])"
   ]
  },
  {
   "cell_type": "markdown",
   "metadata": {
    "deletable": false,
    "editable": false,
    "nbgrader": {
     "checksum": "d720993d20e02b6684611da9488872ea",
     "grade": false,
     "grade_id": "cell-369017dafb1e6d7c",
     "locked": true,
     "schema_version": 1,
     "solution": false
    }
   },
   "source": [
    "> **Ex. 6.1.5:** Make a function that downloads and formats the weather data according to previous exercises in Exercise Section 4.1, 6.1. You should use data for ALL stations but still only select maximal temperature. _Bonus:_ To validate that your function works plot the temperature curve for each country in the same window. Use `plt.legend()` to add a legend. \n",
    ">\n",
    "> Name your function `prepareWeatherData`."
   ]
  },
  {
   "cell_type": "code",
   "execution_count": 126,
   "metadata": {
    "deletable": false,
    "nbgrader": {
     "checksum": "920bf57a90b7599b51659c580eb9d604",
     "grade": false,
     "grade_id": "problem_62",
     "locked": false,
     "schema_version": 1,
     "solution": true
    }
   },
   "outputs": [
    {
     "data": {
      "text/plain": [
       "(5686, 6)"
      ]
     },
     "execution_count": 126,
     "metadata": {},
     "output_type": "execute_result"
    }
   ],
   "source": [
    "# [Answer to Ex. 6.1.5]\n",
    "\n",
    "def prepareWeatherData(year):\n",
    "    url = 'https://www1.ncdc.noaa.gov/pub/data/ghcn/daily/by_year/{y}.csv.gz'.format(y=str(year))\n",
    "\n",
    "    df_weather = pd.read_csv(url, header=None).iloc[:,:4]\n",
    "    \n",
    "    df_weather.columns = ['station', 'datetime', 'obs_type', 'obs_value']\n",
    "    df_weather['obs_value'] = df_weather['obs_value'] / 10\n",
    "    \n",
    "    df_select = df_weather[(df_weather.obs_type == 'TMAX')].copy()\n",
    "    df_select['TMAX_F'] = 32 + 1.8 * df_select['obs_value']\n",
    "    df_sorted = df_select.reset_index(drop=True).sort_values(by=['obs_value'])\n",
    "    df_sorted['year'] = year\n",
    "    \n",
    "    return df_sorted\n",
    "\n",
    "df_sorted.head()\n",
    "prepareWeatherData('1864').shape\n",
    "\n",
    "# YOUR CODE HERE\n",
    "#raise NotImplementedError()"
   ]
  },
  {
   "cell_type": "code",
   "execution_count": 125,
   "metadata": {
    "deletable": false,
    "editable": false,
    "nbgrader": {
     "checksum": "21b573bbe818e27e3cba31ba439f889d",
     "grade": true,
     "grade_id": "problem_62_tests",
     "locked": true,
     "points": 1,
     "schema_version": 1,
     "solution": false
    }
   },
   "outputs": [],
   "source": [
    "assert prepareWeatherData('1864').shape == (5686, 6)"
   ]
  },
  {
   "cell_type": "markdown",
   "metadata": {
    "deletable": false,
    "editable": false,
    "nbgrader": {
     "checksum": "d0a38a1a62cf78e9c6214e21ea8e6174",
     "grade": false,
     "grade_id": "cell-e206cc10e0354153",
     "locked": true,
     "schema_version": 1,
     "solution": false
    }
   },
   "source": [
    "## Problems from exercise set 7\n",
    "\n",
    "> _Note:_ Once again if you haven't managed to download the data from NOAA, you can refer to the github repo to get csv-files containing the required data."
   ]
  },
  {
   "cell_type": "code",
   "execution_count": 153,
   "metadata": {
    "deletable": false,
    "editable": false,
    "nbgrader": {
     "checksum": "aae2b85bce7a1f050aba06e5f14f07c8",
     "grade": false,
     "grade_id": "cell-15d553fb5be81d7a",
     "locked": true,
     "schema_version": 1,
     "solution": false
    }
   },
   "outputs": [],
   "source": [
    "%matplotlib inline \n",
    "\n",
    "import pandas as pd \n",
    "import matplotlib.pyplot as plt\n",
    "import matplotlib as mpl\n",
    "\n",
    "# Increases the plot size a little\n",
    "mpl.rcParams['figure.figsize'] = 11, 6"
   ]
  },
  {
   "cell_type": "markdown",
   "metadata": {
    "deletable": false,
    "editable": false,
    "nbgrader": {
     "checksum": "807c2181bc38762b44c6706d86291424",
     "grade": false,
     "grade_id": "cell-c48aef6db605ecd8",
     "locked": true,
     "schema_version": 1,
     "solution": false
    }
   },
   "source": [
    "> **Ex. 7.1.1:** Plot the monthly max,min, mean, first and third quartiles for maximum temperature for our station with the ID _'ITE00100550'_ in 1864. \n",
    "\n",
    "> *Hint*: the method `describe` computes all these measures."
   ]
  },
  {
   "cell_type": "code",
   "execution_count": 165,
   "metadata": {
    "deletable": false,
    "nbgrader": {
     "checksum": "ecfe6ce83747d19c96ac19778351daee",
     "grade": true,
     "grade_id": "problem_71",
     "locked": false,
     "points": 1,
     "schema_version": 1,
     "solution": true
    }
   },
   "outputs": [
    {
     "data": {
      "text/html": [
       "<div>\n",
       "<style scoped>\n",
       "    .dataframe tbody tr th:only-of-type {\n",
       "        vertical-align: middle;\n",
       "    }\n",
       "\n",
       "    .dataframe tbody tr th {\n",
       "        vertical-align: top;\n",
       "    }\n",
       "\n",
       "    .dataframe thead th {\n",
       "        text-align: right;\n",
       "    }\n",
       "</style>\n",
       "<table border=\"1\" class=\"dataframe\">\n",
       "  <thead>\n",
       "    <tr style=\"text-align: right;\">\n",
       "      <th></th>\n",
       "      <th>station</th>\n",
       "      <th>datetime</th>\n",
       "      <th>obs_type</th>\n",
       "      <th>obs_value</th>\n",
       "    </tr>\n",
       "  </thead>\n",
       "  <tbody>\n",
       "    <tr>\n",
       "      <th>0</th>\n",
       "      <td>ITE00100550</td>\n",
       "      <td>18640101</td>\n",
       "      <td>TMAX</td>\n",
       "      <td>1.0</td>\n",
       "    </tr>\n",
       "    <tr>\n",
       "      <th>1</th>\n",
       "      <td>ITE00100550</td>\n",
       "      <td>18640101</td>\n",
       "      <td>TMIN</td>\n",
       "      <td>-2.3</td>\n",
       "    </tr>\n",
       "    <tr>\n",
       "      <th>2</th>\n",
       "      <td>ITE00100550</td>\n",
       "      <td>18640101</td>\n",
       "      <td>PRCP</td>\n",
       "      <td>2.5</td>\n",
       "    </tr>\n",
       "    <tr>\n",
       "      <th>3</th>\n",
       "      <td>ASN00079028</td>\n",
       "      <td>18640101</td>\n",
       "      <td>PRCP</td>\n",
       "      <td>0.0</td>\n",
       "    </tr>\n",
       "    <tr>\n",
       "      <th>4</th>\n",
       "      <td>USC00064757</td>\n",
       "      <td>18640101</td>\n",
       "      <td>PRCP</td>\n",
       "      <td>11.9</td>\n",
       "    </tr>\n",
       "  </tbody>\n",
       "</table>\n",
       "</div>"
      ],
      "text/plain": [
       "       station  datetime obs_type  obs_value\n",
       "0  ITE00100550  18640101     TMAX        1.0\n",
       "1  ITE00100550  18640101     TMIN       -2.3\n",
       "2  ITE00100550  18640101     PRCP        2.5\n",
       "3  ASN00079028  18640101     PRCP        0.0\n",
       "4  USC00064757  18640101     PRCP       11.9"
      ]
     },
     "execution_count": 165,
     "metadata": {},
     "output_type": "execute_result"
    }
   ],
   "source": [
    "# [Answer to Ex. 7.1.1]\n",
    "\n",
    "def prepareWeatherData(year):\n",
    "    url = 'https://www1.ncdc.noaa.gov/pub/data/ghcn/daily/by_year/{y}.csv.gz'.format(y=str(year))\n",
    "\n",
    "    df_weather = pd.read_csv(url, header=None).iloc[:,:4]\n",
    "    \n",
    "    df_weather.columns = ['station', 'datetime', 'obs_type', 'obs_value']\n",
    "    df_weather['obs_value'] = df_weather['obs_value'] / 10\n",
    "    \n",
    "    df_weather = df_weather[(df_weather.obs_type == 'TMAX')].copy()\n",
    "    df_weather['TMAX_F'] = 32 + 1.8 * df_select['obs_value']\n",
    "    df_weather = df_select.reset_index(drop=True).sort_values(by=['obs_value'])\n",
    "    df_weather['year'] = year\n",
    "    df_weather['date']=pd.to_datetime(df_weather['date'], format='%Y%m%d')\n",
    "    df_weather['month']=df_weather['date'].dt.month\n",
    "    df_weather.set_index(df_weather['date'], inplace=True)\n",
    "    df_weather['countrycode']=df_weather['station'].str.extract('([A-Z]+)')\n",
    "    return df_weather\n",
    "\n",
    "df_weather.head()\n",
    "\n",
    "#raise NotImplementedError()"
   ]
  },
  {
   "cell_type": "code",
   "execution_count": 155,
   "metadata": {},
   "outputs": [
    {
     "data": {
      "text/plain": [
       "<matplotlib.axes._subplots.AxesSubplot at 0x22a0249a358>"
      ]
     },
     "execution_count": 155,
     "metadata": {},
     "output_type": "execute_result"
    },
    {
     "data": {
      "image/png": "[encoded data removed]",
      "text/plain": [
       "<Figure size 792x432 with 1 Axes>"
      ]
     },
     "metadata": {
      "needs_background": "light"
     },
     "output_type": "display_data"
    }
   ],
   "source": [
    "ite =  data.loc[(data['station']=='ITE00100550') & (data['type']=='TMAX')].copy()\n",
    "ite.groupby(\"month\")[\"temp\"].describe().plot(y=[\"25%\", \"75%\", \"min\", \"mean\", \"max\"])"
   ]
  },
  {
   "cell_type": "markdown",
   "metadata": {
    "deletable": false,
    "editable": false,
    "nbgrader": {
     "checksum": "210cb4ca3448895862b65daa1a32b1f1",
     "grade": false,
     "grade_id": "cell-0e3079a5520618d4",
     "locked": true,
     "schema_version": 1,
     "solution": false
    }
   },
   "source": [
    "> **Ex. 7.1.2:** Get the processed data from years 1864-1867 as a list of DataFrames. Convert the list into a single DataFrame by concatenating vertically. \n",
    ">\n",
    "> Name the concatenated data `answer_72`"
   ]
  },
  {
   "cell_type": "code",
   "execution_count": 163,
   "metadata": {
    "deletable": false,
    "nbgrader": {
     "checksum": "b221fc2dbd44eb50ad781368243b9a9c",
     "grade": false,
     "grade_id": "problem_72",
     "locked": false,
     "schema_version": 1,
     "solution": true
    },
    "scrolled": true
   },
   "outputs": [
    {
     "name": "stderr",
     "output_type": "stream",
     "text": [
      "C:\\Users\\ester\\Anaconda3\\lib\\site-packages\\ipykernel_launcher.py:10: SettingWithCopyWarning: \n",
      "A value is trying to be set on a copy of a slice from a DataFrame.\n",
      "Try using .loc[row_indexer,col_indexer] = value instead\n",
      "\n",
      "See the caveats in the documentation: http://pandas.pydata.org/pandas-docs/stable/indexing.html#indexing-view-versus-copy\n",
      "  # Remove the CWD from sys.path while we load stuff.\n",
      "C:\\Users\\ester\\Anaconda3\\lib\\site-packages\\ipykernel_launcher.py:12: SettingWithCopyWarning: \n",
      "A value is trying to be set on a copy of a slice from a DataFrame\n",
      "\n",
      "See the caveats in the documentation: http://pandas.pydata.org/pandas-docs/stable/indexing.html#indexing-view-versus-copy\n",
      "  if sys.path[0] == '':\n",
      "C:\\Users\\ester\\Anaconda3\\lib\\site-packages\\ipykernel_launcher.py:13: SettingWithCopyWarning: \n",
      "A value is trying to be set on a copy of a slice from a DataFrame.\n",
      "Try using .loc[row_indexer,col_indexer] = value instead\n",
      "\n",
      "See the caveats in the documentation: http://pandas.pydata.org/pandas-docs/stable/indexing.html#indexing-view-versus-copy\n",
      "  del sys.path[0]\n",
      "C:\\Users\\ester\\Anaconda3\\lib\\site-packages\\ipykernel_launcher.py:14: SettingWithCopyWarning: \n",
      "A value is trying to be set on a copy of a slice from a DataFrame.\n",
      "Try using .loc[row_indexer,col_indexer] = value instead\n",
      "\n",
      "See the caveats in the documentation: http://pandas.pydata.org/pandas-docs/stable/indexing.html#indexing-view-versus-copy\n",
      "  \n",
      "C:\\Users\\ester\\Anaconda3\\lib\\site-packages\\ipykernel_launcher.py:16: SettingWithCopyWarning: \n",
      "A value is trying to be set on a copy of a slice from a DataFrame.\n",
      "Try using .loc[row_indexer,col_indexer] = value instead\n",
      "\n",
      "See the caveats in the documentation: http://pandas.pydata.org/pandas-docs/stable/indexing.html#indexing-view-versus-copy\n",
      "  app.launch_new_instance()\n",
      "C:\\Users\\ester\\Anaconda3\\lib\\site-packages\\ipykernel_launcher.py:10: SettingWithCopyWarning: \n",
      "A value is trying to be set on a copy of a slice from a DataFrame.\n",
      "Try using .loc[row_indexer,col_indexer] = value instead\n",
      "\n",
      "See the caveats in the documentation: http://pandas.pydata.org/pandas-docs/stable/indexing.html#indexing-view-versus-copy\n",
      "  # Remove the CWD from sys.path while we load stuff.\n",
      "C:\\Users\\ester\\Anaconda3\\lib\\site-packages\\ipykernel_launcher.py:12: SettingWithCopyWarning: \n",
      "A value is trying to be set on a copy of a slice from a DataFrame\n",
      "\n",
      "See the caveats in the documentation: http://pandas.pydata.org/pandas-docs/stable/indexing.html#indexing-view-versus-copy\n",
      "  if sys.path[0] == '':\n",
      "C:\\Users\\ester\\Anaconda3\\lib\\site-packages\\ipykernel_launcher.py:13: SettingWithCopyWarning: \n",
      "A value is trying to be set on a copy of a slice from a DataFrame.\n",
      "Try using .loc[row_indexer,col_indexer] = value instead\n",
      "\n",
      "See the caveats in the documentation: http://pandas.pydata.org/pandas-docs/stable/indexing.html#indexing-view-versus-copy\n",
      "  del sys.path[0]\n",
      "C:\\Users\\ester\\Anaconda3\\lib\\site-packages\\ipykernel_launcher.py:14: SettingWithCopyWarning: \n",
      "A value is trying to be set on a copy of a slice from a DataFrame.\n",
      "Try using .loc[row_indexer,col_indexer] = value instead\n",
      "\n",
      "See the caveats in the documentation: http://pandas.pydata.org/pandas-docs/stable/indexing.html#indexing-view-versus-copy\n",
      "  \n",
      "C:\\Users\\ester\\Anaconda3\\lib\\site-packages\\ipykernel_launcher.py:16: SettingWithCopyWarning: \n",
      "A value is trying to be set on a copy of a slice from a DataFrame.\n",
      "Try using .loc[row_indexer,col_indexer] = value instead\n",
      "\n",
      "See the caveats in the documentation: http://pandas.pydata.org/pandas-docs/stable/indexing.html#indexing-view-versus-copy\n",
      "  app.launch_new_instance()\n",
      "C:\\Users\\ester\\Anaconda3\\lib\\site-packages\\ipykernel_launcher.py:10: SettingWithCopyWarning: \n",
      "A value is trying to be set on a copy of a slice from a DataFrame.\n",
      "Try using .loc[row_indexer,col_indexer] = value instead\n",
      "\n",
      "See the caveats in the documentation: http://pandas.pydata.org/pandas-docs/stable/indexing.html#indexing-view-versus-copy\n",
      "  # Remove the CWD from sys.path while we load stuff.\n",
      "C:\\Users\\ester\\Anaconda3\\lib\\site-packages\\ipykernel_launcher.py:12: SettingWithCopyWarning: \n",
      "A value is trying to be set on a copy of a slice from a DataFrame\n",
      "\n",
      "See the caveats in the documentation: http://pandas.pydata.org/pandas-docs/stable/indexing.html#indexing-view-versus-copy\n",
      "  if sys.path[0] == '':\n",
      "C:\\Users\\ester\\Anaconda3\\lib\\site-packages\\ipykernel_launcher.py:13: SettingWithCopyWarning: \n",
      "A value is trying to be set on a copy of a slice from a DataFrame.\n",
      "Try using .loc[row_indexer,col_indexer] = value instead\n",
      "\n",
      "See the caveats in the documentation: http://pandas.pydata.org/pandas-docs/stable/indexing.html#indexing-view-versus-copy\n",
      "  del sys.path[0]\n",
      "C:\\Users\\ester\\Anaconda3\\lib\\site-packages\\ipykernel_launcher.py:14: SettingWithCopyWarning: \n",
      "A value is trying to be set on a copy of a slice from a DataFrame.\n",
      "Try using .loc[row_indexer,col_indexer] = value instead\n",
      "\n",
      "See the caveats in the documentation: http://pandas.pydata.org/pandas-docs/stable/indexing.html#indexing-view-versus-copy\n",
      "  \n",
      "C:\\Users\\ester\\Anaconda3\\lib\\site-packages\\ipykernel_launcher.py:16: SettingWithCopyWarning: \n",
      "A value is trying to be set on a copy of a slice from a DataFrame.\n",
      "Try using .loc[row_indexer,col_indexer] = value instead\n",
      "\n",
      "See the caveats in the documentation: http://pandas.pydata.org/pandas-docs/stable/indexing.html#indexing-view-versus-copy\n",
      "  app.launch_new_instance()\n"
     ]
    },
    {
     "data": {
      "text/plain": [
       "(30003, 7)"
      ]
     },
     "execution_count": 163,
     "metadata": {},
     "output_type": "execute_result"
    }
   ],
   "source": [
    "# [Answer to Ex. 7.1.2]\n",
    "\n",
    "# YOUR CODE HERE\n",
    "#raise NotImplementedError()\n",
    "data1 = weatherdata(1865)\n",
    "data2 = weatherdata(1866)\n",
    "data3 = weatherdata(1867)\n",
    "\n",
    "# vertical concatenation\n",
    "answer_72=pd.concat([data,data1,data2,data3], join='outer', axis=0)\n",
    "\n",
    "answer_72.shape"
   ]
  },
  {
   "cell_type": "code",
   "execution_count": 164,
   "metadata": {
    "deletable": false,
    "editable": false,
    "nbgrader": {
     "checksum": "107cafe2715660c3c36cb1ffab1e7fd6",
     "grade": true,
     "grade_id": "problem_72_tests",
     "locked": true,
     "points": 1,
     "schema_version": 1,
     "solution": false
    }
   },
   "outputs": [],
   "source": [
    "assert answer_72.shape == (30003, 7)"
   ]
  },
  {
   "cell_type": "markdown",
   "metadata": {
    "deletable": false,
    "editable": false,
    "nbgrader": {
     "checksum": "1a8926f4bb982bcc276dc7e8b5f1c3e0",
     "grade": false,
     "grade_id": "cell-5b9d68d7b6583e3d",
     "locked": true,
     "schema_version": 1,
     "solution": false
    }
   },
   "source": [
    "> **Ex. 7.1.3:** Parse the station location data which you can find at https://www1.ncdc.noaa.gov/pub/data/ghcn/daily/ghcnd-stations.txt. Merge station locations onto the weather data spanning 1864-1867.  \n",
    ">\n",
    "> Store the merged data in a new variable called `answer_73`.\n",
    ">\n",
    "> _Hint:_ The location data have the folllowing format, \n",
    "\n",
    "```\n",
    "------------------------------\n",
    "Variable   Columns   Type\n",
    "------------------------------\n",
    "ID            1-11   Character\n",
    "LATITUDE     13-20   Real\n",
    "LONGITUDE    22-30   Real\n",
    "ELEVATION    32-37   Real\n",
    "STATE        39-40   Character\n",
    "NAME         42-71   Character\n",
    "GSN FLAG     73-75   Character\n",
    "HCN/CRN FLAG 77-79   Character\n",
    "WMO ID       81-85   Character\n",
    "------------------------------\n",
    "```\n",
    "\n",
    "> *Hint*: The station information has fixed width format - does there exist a pandas reader for that?"
   ]
  },
  {
   "cell_type": "code",
   "execution_count": 160,
   "metadata": {
    "deletable": false,
    "nbgrader": {
     "checksum": "167a6bcc96b0b283f04e3506dffefedb",
     "grade": false,
     "grade_id": "problem_73",
     "locked": false,
     "schema_version": 1,
     "solution": true
    }
   },
   "outputs": [
    {
     "data": {
      "text/plain": [
       "(143935, 0)"
      ]
     },
     "execution_count": 160,
     "metadata": {},
     "output_type": "execute_result"
    }
   ],
   "source": [
    "# [Answer to Ex. 7.1.3]\n",
    "\n",
    "# YOUR CODE HERE\n",
    "#raise NotImplementedError()\n",
    "\n",
    "\n",
    "url = 'https://www1.ncdc.noaa.gov/pub/data/ghcn/daily/ghcnd-stations.txt'\n",
    "\n",
    "# fixed width format\n",
    "df_location = pd.read_fwf('https://www1.ncdc.noaa.gov/pub/data/ghcn/daily/ghcnd-stations.txt')\n",
    "\n",
    "#df_location.columns=['station','latitude','longitude','elevation','name','gsn_flag','hcn_crn_flag','wmo_id']\n",
    "\n",
    "samlet = pd.concat([joined,df_location], join='inner', axis=0)\n",
    "samlet.shape"
   ]
  },
  {
   "cell_type": "code",
   "execution_count": 146,
   "metadata": {
    "deletable": false,
    "editable": false,
    "nbgrader": {
     "checksum": "47dd6b4fd0458276b20dd22afbf6e952",
     "grade": true,
     "grade_id": "problem_73_tests",
     "locked": true,
     "points": 1,
     "schema_version": 1,
     "solution": false
    }
   },
   "outputs": [
    {
     "ename": "NameError",
     "evalue": "name 'answer_73' is not defined",
     "output_type": "error",
     "traceback": [
      "\u001b[1;31m---------------------------------------------------------------------------\u001b[0m",
      "\u001b[1;31mNameError\u001b[0m                                 Traceback (most recent call last)",
      "\u001b[1;32m<ipython-input-146-f0cf6e9fe28a>\u001b[0m in \u001b[0;36m<module>\u001b[1;34m()\u001b[0m\n\u001b[1;32m----> 1\u001b[1;33m \u001b[1;32massert\u001b[0m \u001b[0manswer_73\u001b[0m\u001b[1;33m.\u001b[0m\u001b[0mshape\u001b[0m \u001b[1;33m==\u001b[0m \u001b[1;33m(\u001b[0m\u001b[1;36m5686\u001b[0m\u001b[1;33m,\u001b[0m \u001b[1;36m15\u001b[0m\u001b[1;33m)\u001b[0m \u001b[1;32mor\u001b[0m \u001b[0manswer_73\u001b[0m\u001b[1;33m.\u001b[0m\u001b[0mshape\u001b[0m \u001b[1;33m==\u001b[0m \u001b[1;33m(\u001b[0m\u001b[1;36m30003\u001b[0m\u001b[1;33m,\u001b[0m \u001b[1;36m15\u001b[0m\u001b[1;33m)\u001b[0m\u001b[1;33m\u001b[0m\u001b[1;33m\u001b[0m\u001b[0m\n\u001b[0m",
      "\u001b[1;31mNameError\u001b[0m: name 'answer_73' is not defined"
     ]
    }
   ],
   "source": [
    "assert answer_73.shape == (5686, 15) or answer_73.shape == (30003, 15)"
   ]
  },
  {
   "cell_type": "markdown",
   "metadata": {
    "deletable": false,
    "editable": false,
    "nbgrader": {
     "checksum": "71047da6e2e34b2c66bbddb6e2dba62a",
     "grade": false,
     "grade_id": "cell-01cb09ebc1fe07d8",
     "locked": true,
     "schema_version": 1,
     "solution": false
    }
   },
   "source": [
    "## Problems from exercise set 8\n",
    "\n",
    "> **Ex. 8.1.2.:** Use the `request` module to collect the first page of job postings.\n",
    ">\n",
    "> Store the response.json() object in a new variable called `answer_81`.\n",
    "> "
   ]
  },
  {
   "cell_type": "code",
   "execution_count": null,
   "metadata": {
    "deletable": false,
    "nbgrader": {
     "checksum": "3675e9996445e60c9c55871bbf9656b5",
     "grade": false,
     "grade_id": "problem_81",
     "locked": false,
     "schema_version": 1,
     "solution": true
    }
   },
   "outputs": [],
   "source": [
    "# [Answer to Ex. 8.1.2]\n",
    "\n",
    "# YOUR CODE HERE\n",
    "raise NotImplementedError()"
   ]
  },
  {
   "cell_type": "code",
   "execution_count": null,
   "metadata": {
    "deletable": false,
    "editable": false,
    "nbgrader": {
     "checksum": "a870431a18f53296a6d3676efb0e5ffc",
     "grade": true,
     "grade_id": "problem_81_tests",
     "locked": true,
     "points": 1,
     "schema_version": 1,
     "solution": false
    }
   },
   "outputs": [],
   "source": [
    "assert sorted(answer_81.keys()) == sorted(['Expression', 'Facets', 'JobPositionPostings', 'TotalResultCount'])"
   ]
  },
  {
   "cell_type": "markdown",
   "metadata": {
    "deletable": false,
    "editable": false,
    "nbgrader": {
     "checksum": "fe4949db01017cc8618490263967fe1b",
     "grade": false,
     "grade_id": "cell-6f74cab704e1fb70",
     "locked": true,
     "schema_version": 1,
     "solution": false
    }
   },
   "source": [
    "> **Ex. 8.1.3.:** Store the 'TotalResultCount' value for later use. Also create a dataframe from the 'JobPositionPostings' field in the json. Name this dataframe `answer_82`."
   ]
  },
  {
   "cell_type": "code",
   "execution_count": null,
   "metadata": {
    "deletable": false,
    "nbgrader": {
     "checksum": "b554f0f47fb8dacb41d1517d1afc42a3",
     "grade": false,
     "grade_id": "problem_82",
     "locked": false,
     "schema_version": 1,
     "solution": true
    }
   },
   "outputs": [],
   "source": [
    "# [Answer to Ex. 8.1.3]\n",
    "# answer_82 = \n",
    "\n",
    "# YOUR CODE HERE\n",
    "raise NotImplementedError()"
   ]
  },
  {
   "cell_type": "code",
   "execution_count": null,
   "metadata": {
    "deletable": false,
    "editable": false,
    "nbgrader": {
     "checksum": "a353e060971a565cb33498db98d2aaa5",
     "grade": true,
     "grade_id": "problem_82_tests",
     "locked": true,
     "points": 1,
     "schema_version": 1,
     "solution": false
    }
   },
   "outputs": [],
   "source": [
    "assert answer_82.shape == (20,44)"
   ]
  }
 ],
 "metadata": {
  "kernelspec": {
   "display_name": "Python 3",
   "language": "python",
   "name": "python3"
  },
  "language_info": {
   "codemirror_mode": {
    "name": "ipython",
    "version": 3
   },
   "file_extension": ".py",
   "mimetype": "text/x-python",
   "name": "python",
   "nbconvert_exporter": "python",
   "pygments_lexer": "ipython3",
   "version": "3.7.3"
  }
 },
 "nbformat": 4,
 "nbformat_minor": 2
}
