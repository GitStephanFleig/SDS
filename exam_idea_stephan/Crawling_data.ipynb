{
 "cells": [
  {
   "cell_type": "markdown",
   "metadata": {},
   "source": [
    "# How to get the GTD Data\n",
    "\n",
    "- Full download using the [download website](https://www.start.umd.edu/gtd/contact/)\n",
    "- Partial download using the  [search website](https://www.start.umd.edu/gtd/search/) (creating a download link)\n",
    "- API in development but not yet available: [German FFO funds GTD](https://www.start.umd.edu/gtd/contact/)"
   ]
  },
  {
   "cell_type": "code",
   "execution_count": null,
   "metadata": {},
   "outputs": [],
   "source": []
  }
 ],
 "metadata": {
  "kernelspec": {
   "display_name": "Python 3",
   "language": "python",
   "name": "python3"
  },
  "language_info": {
   "codemirror_mode": {
    "name": "ipython",
    "version": 3
   },
   "file_extension": ".py",
   "mimetype": "text/x-python",
   "name": "python",
   "nbconvert_exporter": "python",
   "pygments_lexer": "ipython3",
   "version": "3.7.3"
  }
 },
 "nbformat": 4,
 "nbformat_minor": 2
}
