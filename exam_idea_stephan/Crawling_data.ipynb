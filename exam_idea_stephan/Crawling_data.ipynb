{
 "cells": [
  {
   "cell_type": "markdown",
   "metadata": {},
   "source": [
    "# Global Terrorism Database\n",
    "\n",
    "## Website: [Global Terrorism Database (GTD)](https://www.start.umd.edu/gtd/)\n",
    "\n",
    "### How to get the GTD Data?\n",
    "\n",
    "- Full download using the [download website](https://www.start.umd.edu/gtd/contact/)\n",
    "- Partial download using the  [search website](https://www.start.umd.edu/gtd/search/) (creating a download link or downloading manually)\n",
    "- API in development but not yet available: [German FFO funds GTD](https://www.start.umd.edu/news/german-ffo-funds-gtd)\n",
    "\n",
    "### What kind of data does the GTD provide?\n",
    "\n",
    "- [Overview of the GTD](https://www.start.umd.edu/gtd/about/)\n",
    "- Detailed information about the data: [Codebook](https://www.start.umd.edu/gtd/downloads/Codebook.pdf)"
   ]
  },
  {
   "cell_type": "code",
   "execution_count": 19,
   "metadata": {},
   "outputs": [],
   "source": [
    "# Not working as expected -> search download limited to first 1000 entries only, so have to download full file!!!\n",
    "\n",
    "# defining download function with argument country, start and end year + saving file to disk\n",
    "\n",
    "def downloadGTDbyCountry(country, start = \"1970\", end = \"2017\"):\n",
    "    import os\n",
    "    project = 'GTDdata'\n",
    "    if not os.path.isdir(project):    # check if folder exist\n",
    "        os.mkdir(project)\n",
    "    if not os.path.isdir(project+\"/\"+country):\n",
    "        os.mkdir(project+\"/\"+country) # create subfolders\n",
    "        \n",
    "    if country == \"Afghanistan\": country_code = \"4\"\n",
    "    elif country == \"Albania\": country_code = \"5\"\n",
    "    elif country == \"Algeria\": country_code = \"6\"        \n",
    "    # Full countrylist available in codebook        \n",
    "    elif country == \"Nigeria\": country_code = \"147\"\n",
    "    elif country == \"Chad\": country_code = \"42\"\n",
    "    elif country == \"Cameroon\": country_code = \"37\"    \n",
    "    \n",
    "    base_url = \"https://www.start.umd.edu/gtd/search/Results.aspx?\"\n",
    "    mid1_url = \"start_yearonly=\"+start+\"&end_yearonly=\"+end        \n",
    "    end_url = \"&country=\"+country_code\n",
    "             \n",
    "    final_url = base_url + mid1_url + end_url\n",
    "    \n",
    "    import requests\n",
    "    \n",
    "    r = requests.get(final_url)\n",
    "    open(\"GTDdata\"+\"/\"+country+\"/\"+country+\".csv\", 'wb').write(r.content)\n"
   ]
  },
  {
   "cell_type": "code",
   "execution_count": 20,
   "metadata": {},
   "outputs": [],
   "source": [
    "downloadGTDbyCountry(\"Nigeria\")"
   ]
  },
  {
   "cell_type": "code",
   "execution_count": null,
   "metadata": {},
   "outputs": [],
   "source": []
  }
 ],
 "metadata": {
  "kernelspec": {
   "display_name": "Python 3",
   "language": "python",
   "name": "python3"
  },
  "language_info": {
   "codemirror_mode": {
    "name": "ipython",
    "version": 3
   },
   "file_extension": ".py",
   "mimetype": "text/x-python",
   "name": "python",
   "nbconvert_exporter": "python",
   "pygments_lexer": "ipython3",
   "version": "3.7.3"
  }
 },
 "nbformat": 4,
 "nbformat_minor": 2
}
