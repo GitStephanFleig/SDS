{
 "cells": [
  {
   "cell_type": "markdown",
   "metadata": {},
   "source": [
    "# Global Terrorism Database\n",
    "\n",
    "## How to get the GTD Data?\n",
    "\n",
    "### Website: [Global Terrorism Database (GTD)](https://www.start.umd.edu/gtd/)\n",
    "\n",
    "- Full download using the [download website](https://www.start.umd.edu/gtd/contact/)\n",
    "- Partial download using the  [search website](https://www.start.umd.edu/gtd/search/) (creating a download link or downloading manually)\n",
    "- API in development but not yet available: [German FFO funds GTD](https://www.start.umd.edu/news/german-ffo-funds-gtd)\n",
    "\n",
    "### What kind of data does the GTD provide?\n",
    "\n",
    "- [Overview of the GTD](https://www.start.umd.edu/gtd/about/)\n",
    "- Detailed information about the data: [Codebook](https://www.start.umd.edu/gtd/downloads/Codebook.pdf)"
   ]
  },
  {
   "cell_type": "code",
   "execution_count": null,
   "metadata": {},
   "outputs": [],
   "source": []
  }
 ],
 "metadata": {
  "kernelspec": {
   "display_name": "Python 3",
   "language": "python",
   "name": "python3"
  },
  "language_info": {
   "codemirror_mode": {
    "name": "ipython",
    "version": 3
   },
   "file_extension": ".py",
   "mimetype": "text/x-python",
   "name": "python",
   "nbconvert_exporter": "python",
   "pygments_lexer": "ipython3",
   "version": "3.7.3"
  }
 },
 "nbformat": 4,
 "nbformat_minor": 2
}
